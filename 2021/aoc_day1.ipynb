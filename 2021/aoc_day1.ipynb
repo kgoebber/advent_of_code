{
 "cells": [
  {
   "cell_type": "code",
   "execution_count": 1,
   "id": "9eca7808-d4ce-44c0-83a0-894c11c6405a",
   "metadata": {},
   "outputs": [],
   "source": [
    "import numpy as np\n",
    "import pandas as pd"
   ]
  },
  {
   "cell_type": "markdown",
   "id": "071ff992-689a-4d96-9343-a53c2a508ec3",
   "metadata": {},
   "source": [
    "## Test Case - Part 1"
   ]
  },
  {
   "cell_type": "code",
   "execution_count": 2,
   "id": "50a1eef7-f44d-4b41-9559-c18f38c3f10a",
   "metadata": {},
   "outputs": [
    {
     "data": {
      "text/plain": [
       "7"
      ]
     },
     "execution_count": 2,
     "metadata": {},
     "output_type": "execute_result"
    }
   ],
   "source": [
    "depths = np.array([199, 200, 208, 210, 200, 207, 240, 269, 260, 263])\n",
    "\n",
    "change = (depths[1:] - depths[:-1]) > 0\n",
    "\n",
    "change.sum()"
   ]
  },
  {
   "cell_type": "markdown",
   "id": "9b891388-67d2-494e-a4c3-cd8ab377e90f",
   "metadata": {},
   "source": [
    "## Part 1 Solution"
   ]
  },
  {
   "cell_type": "code",
   "execution_count": 3,
   "id": "701ffe50-8850-46c5-8b42-7475e01351c7",
   "metadata": {},
   "outputs": [
    {
     "data": {
      "text/plain": [
       "1167"
      ]
     },
     "execution_count": 3,
     "metadata": {},
     "output_type": "execute_result"
    }
   ],
   "source": [
    "depths = np.loadtxt('day1_input.txt')\n",
    "\n",
    "change = (depths[1:] - depths[:-1]) > 0\n",
    "\n",
    "change.sum()"
   ]
  },
  {
   "cell_type": "markdown",
   "id": "861d1a07-5b3f-4bc0-933f-0ea269db36d5",
   "metadata": {},
   "source": [
    "## Test Case - Part 2"
   ]
  },
  {
   "cell_type": "code",
   "execution_count": 4,
   "id": "a761a679-628b-4a65-a36c-d131952b247a",
   "metadata": {},
   "outputs": [],
   "source": [
    "depths = pd.Series(np.array([199, 200, 208, 210, 200, 207, 240, 269, 260, 263]))"
   ]
  },
  {
   "cell_type": "code",
   "execution_count": 5,
   "id": "7ee9a3f7-e7f0-4a34-9c4a-1f210c5241a6",
   "metadata": {},
   "outputs": [
    {
     "data": {
      "text/plain": [
       "array([ nan,  nan, 607., 618., 618., 617., 647., 716., 769., 792.])"
      ]
     },
     "execution_count": 5,
     "metadata": {},
     "output_type": "execute_result"
    }
   ],
   "source": [
    "depths_rolling = depths.rolling(window=3, min_periods=3).sum().values\n",
    "depths_rolling"
   ]
  },
  {
   "cell_type": "code",
   "execution_count": 6,
   "id": "e13676b2-5aa4-437e-a1fb-34d6f18cd2b4",
   "metadata": {},
   "outputs": [
    {
     "data": {
      "text/plain": [
       "5"
      ]
     },
     "execution_count": 6,
     "metadata": {},
     "output_type": "execute_result"
    }
   ],
   "source": [
    "change = (depths_rolling[1:] - depths_rolling[:-1]) > 0\n",
    "\n",
    "change.sum()"
   ]
  },
  {
   "cell_type": "markdown",
   "id": "201775cf-63c9-4c0d-8b15-4517c788140d",
   "metadata": {},
   "source": [
    "## Part 2 Solution"
   ]
  },
  {
   "cell_type": "code",
   "execution_count": 7,
   "id": "3f94a3b8-b4cf-43e5-a683-90d9c1ff0f3a",
   "metadata": {},
   "outputs": [
    {
     "data": {
      "text/plain": [
       "1130"
      ]
     },
     "execution_count": 7,
     "metadata": {},
     "output_type": "execute_result"
    }
   ],
   "source": [
    "depths = pd.read_csv('day1_input.txt', header=None)\n",
    "\n",
    "depths_rolling = depths.rolling(window=3, min_periods=3).sum().values[:, 0]\n",
    "\n",
    "change = (depths_rolling[1:] - depths_rolling[:-1]) > 0\n",
    "\n",
    "change.sum()"
   ]
  },
  {
   "cell_type": "code",
   "execution_count": null,
   "id": "1999f174-61e5-4cb9-b388-076b0843055f",
   "metadata": {},
   "outputs": [],
   "source": []
  }
 ],
 "metadata": {
  "kernelspec": {
   "display_name": "Python 3 (ipykernel)",
   "language": "python",
   "name": "python3"
  },
  "language_info": {
   "codemirror_mode": {
    "name": "ipython",
    "version": 3
   },
   "file_extension": ".py",
   "mimetype": "text/x-python",
   "name": "python",
   "nbconvert_exporter": "python",
   "pygments_lexer": "ipython3",
   "version": "3.8.12"
  }
 },
 "nbformat": 4,
 "nbformat_minor": 5
}
