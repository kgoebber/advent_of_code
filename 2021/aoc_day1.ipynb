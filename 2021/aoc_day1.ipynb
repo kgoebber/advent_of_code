{
 "cells": [
  {
   "cell_type": "code",
   "execution_count": 7,
   "id": "9eca7808-d4ce-44c0-83a0-894c11c6405a",
   "metadata": {},
   "outputs": [],
   "source": [
    "import numpy as np\n",
    "import pandas as pd"
   ]
  },
  {
   "cell_type": "markdown",
   "id": "071ff992-689a-4d96-9343-a53c2a508ec3",
   "metadata": {},
   "source": [
    "## Test Case - Part 1"
   ]
  },
  {
   "cell_type": "code",
   "execution_count": 3,
   "id": "50a1eef7-f44d-4b41-9559-c18f38c3f10a",
   "metadata": {},
   "outputs": [
    {
     "data": {
      "text/plain": [
       "7"
      ]
     },
     "execution_count": 3,
     "metadata": {},
     "output_type": "execute_result"
    }
   ],
   "source": [
    "depths = np.array([199, 200, 208, 210, 200, 207, 240, 269, 260, 263])\n",
    "\n",
    "change = (depths[1:] - depths[:-1]) > 0\n",
    "\n",
    "change.sum()"
   ]
  },
  {
   "cell_type": "markdown",
   "id": "9b891388-67d2-494e-a4c3-cd8ab377e90f",
   "metadata": {},
   "source": [
    "## Part 1 Solution"
   ]
  },
  {
   "cell_type": "code",
   "execution_count": 5,
   "id": "701ffe50-8850-46c5-8b42-7475e01351c7",
   "metadata": {},
   "outputs": [
    {
     "data": {
      "text/plain": [
       "1167"
      ]
     },
     "execution_count": 5,
     "metadata": {},
     "output_type": "execute_result"
    }
   ],
   "source": [
    "depths = np.loadtxt('day1_input.txt')\n",
    "\n",
    "change = (depths[1:] - depths[:-1]) > 0\n",
    "\n",
    "change.sum()"
   ]
  },
  {
   "cell_type": "markdown",
   "id": "861d1a07-5b3f-4bc0-933f-0ea269db36d5",
   "metadata": {},
   "source": [
    "## Test Case - Part 2"
   ]
  },
  {
   "cell_type": "code",
   "execution_count": 45,
   "id": "a761a679-628b-4a65-a36c-d131952b247a",
   "metadata": {},
   "outputs": [],
   "source": [
    "depths = pd.Series(np.array([199, 200, 208, 210, 200, 207, 240, 269, 260, 263]))"
   ]
  },
  {
   "cell_type": "code",
   "execution_count": 46,
   "id": "7ee9a3f7-e7f0-4a34-9c4a-1f210c5241a6",
   "metadata": {},
   "outputs": [
    {
     "data": {
      "text/plain": [
       "array([ nan,  nan, 607., 618., 618., 617., 647., 716., 769., 792.])"
      ]
     },
     "execution_count": 46,
     "metadata": {},
     "output_type": "execute_result"
    }
   ],
   "source": [
    "depths_rolling = depths.rolling(window=3, min_periods=3).sum().values\n",
    "depths_rolling"
   ]
  },
  {
   "cell_type": "code",
   "execution_count": 47,
   "id": "e13676b2-5aa4-437e-a1fb-34d6f18cd2b4",
   "metadata": {},
   "outputs": [
    {
     "data": {
      "text/plain": [
       "5"
      ]
     },
     "execution_count": 47,
     "metadata": {},
     "output_type": "execute_result"
    }
   ],
   "source": [
    "change = (depths_rolling[1:] - depths_rolling[:-1]) > 0\n",
    "\n",
    "change.sum()"
   ]
  },
  {
   "cell_type": "code",
   "execution_count": 53,
   "id": "3f94a3b8-b4cf-43e5-a683-90d9c1ff0f3a",
   "metadata": {},
   "outputs": [
    {
     "data": {
      "text/plain": [
       "1130"
      ]
     },
     "execution_count": 53,
     "metadata": {},
     "output_type": "execute_result"
    }
   ],
   "source": [
    "depths = pd.read_csv('day1_input.txt', header=None)\n",
    "\n",
    "depths_rolling = depths.rolling(window=3, min_periods=3).sum().values[:, 0]\n",
    "\n",
    "change = (depths_rolling[1:] - depths_rolling[:-1]) > 0\n",
    "\n",
    "change.sum()"
   ]
  },
  {
   "cell_type": "code",
   "execution_count": 51,
   "id": "579f4c94-afdc-41f6-94a0-b932db136be1",
   "metadata": {},
   "outputs": [
    {
     "data": {
      "text/plain": [
       "array([False, False,  True, ...,  True,  True,  True])"
      ]
     },
     "execution_count": 51,
     "metadata": {},
     "output_type": "execute_result"
    }
   ],
   "source": [
    "change"
   ]
  },
  {
   "cell_type": "code",
   "execution_count": 52,
   "id": "69b3ab31-8198-4cba-a5a0-cc0f6f7d9eef",
   "metadata": {},
   "outputs": [
    {
     "data": {
      "text/html": [
       "<div>\n",
       "<style scoped>\n",
       "    .dataframe tbody tr th:only-of-type {\n",
       "        vertical-align: middle;\n",
       "    }\n",
       "\n",
       "    .dataframe tbody tr th {\n",
       "        vertical-align: top;\n",
       "    }\n",
       "\n",
       "    .dataframe thead th {\n",
       "        text-align: right;\n",
       "    }\n",
       "</style>\n",
       "<table border=\"1\" class=\"dataframe\">\n",
       "  <thead>\n",
       "    <tr style=\"text-align: right;\">\n",
       "      <th></th>\n",
       "      <th>130</th>\n",
       "    </tr>\n",
       "  </thead>\n",
       "  <tbody>\n",
       "    <tr>\n",
       "      <th>0</th>\n",
       "      <td>142</td>\n",
       "    </tr>\n",
       "    <tr>\n",
       "      <th>1</th>\n",
       "      <td>148</td>\n",
       "    </tr>\n",
       "    <tr>\n",
       "      <th>2</th>\n",
       "      <td>147</td>\n",
       "    </tr>\n",
       "    <tr>\n",
       "      <th>3</th>\n",
       "      <td>157</td>\n",
       "    </tr>\n",
       "    <tr>\n",
       "      <th>4</th>\n",
       "      <td>160</td>\n",
       "    </tr>\n",
       "    <tr>\n",
       "      <th>...</th>\n",
       "      <td>...</td>\n",
       "    </tr>\n",
       "    <tr>\n",
       "      <th>1994</th>\n",
       "      <td>2059</td>\n",
       "    </tr>\n",
       "    <tr>\n",
       "      <th>1995</th>\n",
       "      <td>2061</td>\n",
       "    </tr>\n",
       "    <tr>\n",
       "      <th>1996</th>\n",
       "      <td>2068</td>\n",
       "    </tr>\n",
       "    <tr>\n",
       "      <th>1997</th>\n",
       "      <td>2088</td>\n",
       "    </tr>\n",
       "    <tr>\n",
       "      <th>1998</th>\n",
       "      <td>2097</td>\n",
       "    </tr>\n",
       "  </tbody>\n",
       "</table>\n",
       "<p>1999 rows × 1 columns</p>\n",
       "</div>"
      ],
      "text/plain": [
       "       130\n",
       "0      142\n",
       "1      148\n",
       "2      147\n",
       "3      157\n",
       "4      160\n",
       "...    ...\n",
       "1994  2059\n",
       "1995  2061\n",
       "1996  2068\n",
       "1997  2088\n",
       "1998  2097\n",
       "\n",
       "[1999 rows x 1 columns]"
      ]
     },
     "execution_count": 52,
     "metadata": {},
     "output_type": "execute_result"
    }
   ],
   "source": [
    "depths"
   ]
  },
  {
   "cell_type": "code",
   "execution_count": null,
   "id": "1999f174-61e5-4cb9-b388-076b0843055f",
   "metadata": {},
   "outputs": [],
   "source": []
  }
 ],
 "metadata": {
  "kernelspec": {
   "display_name": "Python 3 (ipykernel)",
   "language": "python",
   "name": "python3"
  },
  "language_info": {
   "codemirror_mode": {
    "name": "ipython",
    "version": 3
   },
   "file_extension": ".py",
   "mimetype": "text/x-python",
   "name": "python",
   "nbconvert_exporter": "python",
   "pygments_lexer": "ipython3",
   "version": "3.8.12"
  }
 },
 "nbformat": 4,
 "nbformat_minor": 5
}
