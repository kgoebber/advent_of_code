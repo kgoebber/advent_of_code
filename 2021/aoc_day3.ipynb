{
 "cells": [
  {
   "cell_type": "code",
   "execution_count": null,
   "id": "87456dba-f7dd-4922-83c9-d29828165ea4",
   "metadata": {},
   "outputs": [],
   "source": [
    "from collections import Counter\n",
    "import numpy as np"
   ]
  },
  {
   "cell_type": "code",
   "execution_count": null,
   "id": "a0d30da3-5a69-4996-ad0c-0d3623dc6f95",
   "metadata": {},
   "outputs": [],
   "source": [
    "data = ('00100\\n'\n",
    "        '11110\\n'\n",
    "        '10110\\n'\n",
    "        '10111\\n'\n",
    "        '10101\\n'\n",
    "        '01111\\n'\n",
    "        '00111\\n'\n",
    "        '11100\\n'\n",
    "        '10000\\n'\n",
    "        '11001\\n'\n",
    "        '00010\\n'\n",
    "        '01010')"
   ]
  },
  {
   "cell_type": "code",
   "execution_count": null,
   "id": "d4467173-1d64-42e6-a53f-e0e8bde07f4f",
   "metadata": {},
   "outputs": [],
   "source": [
    "rows = len(data.split())\n",
    "diag = np.zeros((rows, 5)).astype('int64')\n",
    "for i, row in enumerate(data.split()):\n",
    "    for j, val in enumerate(row):\n",
    "        diag[i, j] = val\n",
    "\n",
    "gamma_rate = ''\n",
    "epsilon_rate = ''\n",
    "for col in range(5):\n",
    "    a = Counter(diag[:, col])\n",
    "    gamma_rate += str(a.most_common(1)[0][0])\n",
    "    #print(a.most_common()[1][0])\n",
    "    epsilon_rate += str(a.most_common()[1][0])\n",
    "\n",
    "int(gamma_rate, 2)*int(epsilon_rate, 2)"
   ]
  },
  {
   "cell_type": "code",
   "execution_count": null,
   "id": "f5d34bcb-5817-44e3-a950-66a98a29e099",
   "metadata": {},
   "outputs": [],
   "source": [
    "o2_rating = diag\n",
    "co2_rating = diag\n",
    "passes = 0\n",
    "while o2_rating.shape[0] > 1:\n",
    "    mc, lc = Counter(o2_rating[:, passes]).most_common()\n",
    "    if mc[1] == lc[1]:\n",
    "        most_common = 1\n",
    "    else:\n",
    "        most_common = mc[0]\n",
    "    \n",
    "    if o2_rating.shape[0] > 1:\n",
    "        o2_indx_keep = np.where(o2_rating[:, passes] == most_common)[0]\n",
    "        o2_rating = o2_rating[o2_indx_keep]\n",
    "    passes += 1\n",
    "\n",
    "passes = 0\n",
    "while co2_rating.shape[0] > 1:\n",
    "    mc, lc = Counter(co2_rating[:, passes]).most_common()\n",
    "    if mc[1] == lc[1]:\n",
    "        least_common = 0\n",
    "    else:\n",
    "        least_common = lc[0]        \n",
    "\n",
    "    if co2_rating.shape[0] > 1:\n",
    "        co2_indx_keep = np.where(co2_rating[:, passes] == least_common)[0]\n",
    "        co2_rating = co2_rating[co2_indx_keep]\n",
    "\n",
    "    passes += 1\n",
    "\n",
    "o2_rating = int(''.join(map(str, o2_rating[0])), 2)\n",
    "co2_rating = int(''.join(map(str, co2_rating[0])), 2)\n",
    "\n",
    "print(o2_rating*co2_rating)"
   ]
  },
  {
   "cell_type": "markdown",
   "id": "fa7a5c6a-fca1-4dd0-9ef9-9869ac804675",
   "metadata": {},
   "source": [
    "## Part 1 Solution"
   ]
  },
  {
   "cell_type": "code",
   "execution_count": null,
   "id": "594236ce-e65a-465c-a184-e88d9618bd1d",
   "metadata": {},
   "outputs": [],
   "source": [
    "with open('day3_input.txt') as f:\n",
    "    data = f.read().splitlines()"
   ]
  },
  {
   "cell_type": "code",
   "execution_count": null,
   "id": "ffbe916b-6419-4aa9-8bc1-3ed0ce8801ca",
   "metadata": {},
   "outputs": [],
   "source": [
    "cols = len(data[0])\n",
    "rows = len(data)\n",
    "diag = np.zeros((rows, cols)).astype('int64')\n",
    "for i, row in enumerate(data):\n",
    "    for j, val in enumerate(row):\n",
    "        diag[i, j] = val\n",
    "\n",
    "gamma_rate = ''\n",
    "epsilon_rate = ''\n",
    "for col in range(cols):\n",
    "    a = Counter(diag[:, col])\n",
    "    gamma_rate += str(a.most_common(1)[0][0])\n",
    "    #print(a.most_common()[1][0])\n",
    "    epsilon_rate += str(a.most_common()[1][0])\n",
    "\n",
    "int(gamma_rate, 2)*int(epsilon_rate, 2)"
   ]
  },
  {
   "cell_type": "markdown",
   "id": "c115fc9d-a2cc-4ea5-9518-b5a509227619",
   "metadata": {},
   "source": [
    "## Part 2 Solution"
   ]
  },
  {
   "cell_type": "code",
   "execution_count": null,
   "id": "8de8926b-856a-4558-8588-11f6063293b4",
   "metadata": {},
   "outputs": [],
   "source": [
    "o2_rating = diag\n",
    "passes = 0\n",
    "while (o2_rating.shape[0] > 1):\n",
    "    mc, lc = Counter(o2_rating[:, passes]).most_common()\n",
    "    if mc[1] == lc[1]:\n",
    "        most_common = 1\n",
    "    else:\n",
    "        most_common = mc[0]\n",
    "    \n",
    "    if o2_rating.shape[0] > 1:\n",
    "        o2_indx_keep = np.where(o2_rating[:, passes] == most_common)[0]\n",
    "        o2_rating = o2_rating[o2_indx_keep]\n",
    "    passes += 1\n",
    "\n",
    "co2_rating = diag\n",
    "passes = 0\n",
    "while (co2_rating.shape[0] > 1):\n",
    "    mc, lc = Counter(co2_rating[:, passes]).most_common()\n",
    "    if mc[1] == lc[1]:\n",
    "        least_common = 0\n",
    "    else:\n",
    "        least_common = lc[0]    \n",
    "    if co2_rating.shape[0] > 1:\n",
    "        co2_indx_keep = np.where(co2_rating[:, passes] == least_common)[0]\n",
    "        co2_rating = co2_rating[co2_indx_keep]\n",
    "\n",
    "    passes += 1\n",
    "\n",
    "o2_rating = int(''.join(map(str, o2_rating[0])), 2)\n",
    "co2_rating = int(''.join(map(str, co2_rating[0])), 2)\n",
    "print(o2_rating*co2_rating)"
   ]
  },
  {
   "cell_type": "code",
   "execution_count": null,
   "id": "76c57b2b-fa28-4353-a9b9-6de6da50b8f0",
   "metadata": {},
   "outputs": [],
   "source": []
  }
 ],
 "metadata": {
  "kernelspec": {
   "display_name": "Python 3 (ipykernel)",
   "language": "python",
   "name": "python3"
  },
  "language_info": {
   "codemirror_mode": {
    "name": "ipython",
    "version": 3
   },
   "file_extension": ".py",
   "mimetype": "text/x-python",
   "name": "python",
   "nbconvert_exporter": "python",
   "pygments_lexer": "ipython3",
   "version": "3.8.12"
  }
 },
 "nbformat": 4,
 "nbformat_minor": 5
}
