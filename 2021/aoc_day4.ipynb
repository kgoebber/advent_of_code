{
 "cells": [
  {
   "cell_type": "code",
   "execution_count": null,
   "id": "7623bac9-b24a-4738-b6f2-141602cf48e3",
   "metadata": {},
   "outputs": [],
   "source": [
    "import numpy as np"
   ]
  },
  {
   "cell_type": "code",
   "execution_count": null,
   "id": "d137e9d6-b02a-4240-a943-fc0e7d05c029",
   "metadata": {},
   "outputs": [],
   "source": [
    "input_data = ('7,4,9,5,11,17,23,2,0,14,21,24,10,16,13,6,15,25,12,22,18,20,8,19,3,26,1\\n'\n",
    "              '\\n'\n",
    "              '22 13 17 11  0\\n'\n",
    "              '8  2 23  4 24\\n'\n",
    "              '21  9 14 16  7\\n'\n",
    "              '6 10  3 18  5\\n'\n",
    "              '1 12 20 15 19\\n'\n",
    "              '\\n'\n",
    "              '3 15  0  2 22\\n'\n",
    "              '9 18 13 17  5\\n'\n",
    "              '19  8  7 25 23\\n'\n",
    "              '20 11 10 24  4\\n'\n",
    "              '14 21 16 12  6\\n'\n",
    "              '\\n'\n",
    "              '14 21 17 24  4\\n'\n",
    "              '10 16 15  9 19\\n'\n",
    "              '18  8 23 26 20\\n'\n",
    "              '22 11 13  6  5\\n'\n",
    "              '2  0 12  3  7').split('\\n')"
   ]
  },
  {
   "cell_type": "code",
   "execution_count": null,
   "id": "54b432cf-da0e-442d-93b8-e05015954505",
   "metadata": {},
   "outputs": [],
   "source": [
    "numbers = [int(val) for val in input_data[0].split(',')]\n",
    "\n",
    "boards = []\n",
    "board = []\n",
    "row = 0\n",
    "while row < len(input_data[2:]):\n",
    "    \n",
    "    if input_data[2:][row] != '':\n",
    "        board.append([int(val) for val in input_data[2:][row].split()])\n",
    "    else:\n",
    "        boards.append(board)\n",
    "        board = []\n",
    "    \n",
    "    row += 1\n",
    "boards.append(board)\n",
    "\n",
    "boards = np.array(boards)\n",
    "\n",
    "win = False\n",
    "nums = 5\n",
    "while not win:\n",
    "    check_boards = np.isin(boards, numbers[:nums])\n",
    "    for b in range(boards.shape[0]):\n",
    "        for line in range(5):\n",
    "            if check_boards[b, line].all():\n",
    "                win = True\n",
    "            if check_boards[b, :, line].all():\n",
    "                win = True\n",
    "            if win:\n",
    "                winning_board = b\n",
    "                winning_numbers = numbers[:nums]\n",
    "    nums += 1\n",
    "boards[winning_board][~np.isin(boards[winning_board], winning_numbers)].sum()*winning_numbers[-1]"
   ]
  },
  {
   "cell_type": "code",
   "execution_count": null,
   "id": "401d0130-d48d-48d7-bb70-0b6053758d78",
   "metadata": {},
   "outputs": [],
   "source": [
    "win = False\n",
    "while not win:\n",
    "    check_boards = np.isin(boards, numbers[:nums])\n",
    "    for b in range(boards.shape[0]):\n",
    "        for line in range(5):\n",
    "            if boards.shape[0] != 1:\n",
    "                if check_boards[b, line].all():\n",
    "                    win = True\n",
    "                    remove = b\n",
    "                if check_boards[b, :, line].all():\n",
    "                    win = True\n",
    "                    remove = b\n",
    "            else:\n",
    "                if check_boards[b, line].all():\n",
    "                    win = True\n",
    "                    winning_board = b\n",
    "                    winning_numbers = numbers[:nums]\n",
    "                if check_boards[b, :, line].all():\n",
    "                    win = True\n",
    "                    winning_board = b\n",
    "                    winning_numbers = numbers[:nums]\n",
    "        \n",
    "    if win and boards.shape[0] != 1:\n",
    "        boards = np.delete(boards, remove, 0)\n",
    "        win = False\n",
    "    nums += 1"
   ]
  },
  {
   "cell_type": "code",
   "execution_count": null,
   "id": "43296e3b-c12e-453f-bc3b-e0781d2ee049",
   "metadata": {},
   "outputs": [],
   "source": [
    "winning_numbers"
   ]
  },
  {
   "cell_type": "code",
   "execution_count": null,
   "id": "d1d51a0b-56f9-4073-b1ff-f7f99f8d01a0",
   "metadata": {},
   "outputs": [],
   "source": [
    "boards"
   ]
  },
  {
   "cell_type": "code",
   "execution_count": null,
   "id": "357593c6-7ed6-411b-97bb-d564461e9a8e",
   "metadata": {},
   "outputs": [],
   "source": [
    "boards[~np.isin(boards, winning_numbers)].sum()*winning_numbers[-1]"
   ]
  },
  {
   "cell_type": "code",
   "execution_count": null,
   "id": "51bc4c6e-05f2-41b9-9c18-28f3bc2334b3",
   "metadata": {},
   "outputs": [],
   "source": [
    "with open('day4_input.txt') as f:\n",
    "    data = f.read().splitlines()"
   ]
  },
  {
   "cell_type": "code",
   "execution_count": null,
   "id": "15044fe4-ea29-4ba7-acaa-8849362ccc5a",
   "metadata": {},
   "outputs": [],
   "source": [
    "numbers = [int(val) for val in data[0].split(',')]"
   ]
  },
  {
   "cell_type": "code",
   "execution_count": null,
   "id": "71d4b176-9994-4e53-b047-5b316d65f22f",
   "metadata": {},
   "outputs": [],
   "source": [
    "boards = []\n",
    "board = []\n",
    "row = 0\n",
    "while row < len(data[2:]):\n",
    "    \n",
    "    if data[2:][row] != '':\n",
    "        board.append([int(val) for val in data[2:][row].split()])\n",
    "    else:\n",
    "        boards.append(board)\n",
    "        board = []\n",
    "    \n",
    "    row += 1\n",
    "boards.append(board)\n",
    "boards = np.array(boards)"
   ]
  },
  {
   "cell_type": "code",
   "execution_count": null,
   "id": "79718bfe-e1a6-4b9c-8607-27f3d8d2b01e",
   "metadata": {},
   "outputs": [],
   "source": [
    "win = False\n",
    "nums = 5\n",
    "while not win:\n",
    "    check_boards = np.isin(boards, numbers[:nums])\n",
    "    for b in range(boards.shape[0]):\n",
    "        for line in range(5):\n",
    "            if check_boards[b, :, line].all():\n",
    "                win = True\n",
    "                winning_board = b\n",
    "                winning_numbers = numbers[:nums]\n",
    "            if check_boards[b, line, :].all():\n",
    "                win = True\n",
    "                winning_board = b\n",
    "                winning_numbers = numbers[:nums]\n",
    "    nums += 1\n",
    "boards[winning_board][~np.isin(boards[winning_board], winning_numbers)].sum()*winning_numbers[-1]"
   ]
  },
  {
   "cell_type": "code",
   "execution_count": null,
   "id": "03d12cfb-7642-49d0-a395-ce21b92e7777",
   "metadata": {},
   "outputs": [],
   "source": [
    "win = False\n",
    "while not win:\n",
    "    check_boards = np.isin(boards, numbers[:nums])\n",
    "    remove = []\n",
    "    for b in range(boards.shape[0]):\n",
    "        for line in range(5):\n",
    "            if boards.shape[0] != 1:\n",
    "                if check_boards[b, line].all():\n",
    "                    win = True\n",
    "                    remove.append(b)\n",
    "                if check_boards[b, :, line].all():\n",
    "                    win = True\n",
    "                    remove.append(b)\n",
    "            else:\n",
    "                if check_boards[b, line].all():\n",
    "                    win = True\n",
    "                    winning_board = b\n",
    "                    winning_numbers = numbers[:nums]\n",
    "                if check_boards[b, :, line].all():\n",
    "                    win = True\n",
    "                    winning_board = b\n",
    "                    winning_numbers = numbers[:nums]\n",
    "        \n",
    "    if win and boards.shape[0] != 1:\n",
    "        boards = np.delete(boards, remove, 0)\n",
    "        win = False\n",
    "    nums += 1\n",
    "boards[~np.isin(boards, winning_numbers)].sum()*winning_numbers[-1]"
   ]
  },
  {
   "cell_type": "code",
   "execution_count": null,
   "id": "d9cba0b6-ec75-42e3-9837-befaf5755773",
   "metadata": {},
   "outputs": [],
   "source": []
  }
 ],
 "metadata": {
  "kernelspec": {
   "display_name": "Python 3 (ipykernel)",
   "language": "python",
   "name": "python3"
  },
  "language_info": {
   "codemirror_mode": {
    "name": "ipython",
    "version": 3
   },
   "file_extension": ".py",
   "mimetype": "text/x-python",
   "name": "python",
   "nbconvert_exporter": "python",
   "pygments_lexer": "ipython3",
   "version": "3.8.12"
  }
 },
 "nbformat": 4,
 "nbformat_minor": 5
}
