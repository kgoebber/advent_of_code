{
 "cells": [
  {
   "cell_type": "code",
   "execution_count": null,
   "id": "af5786d7-a3bf-41bc-a355-23b54d7fc0b6",
   "metadata": {},
   "outputs": [],
   "source": [
    "import re\n",
    "\n",
    "import numpy as np"
   ]
  },
  {
   "cell_type": "markdown",
   "id": "baab4236-cf20-4b88-a041-f7631c019af3",
   "metadata": {},
   "source": [
    "## Part 1 - Test"
   ]
  },
  {
   "cell_type": "code",
   "execution_count": null,
   "id": "e5a2c48b-c0fb-48ce-bb25-65ca74db526d",
   "metadata": {},
   "outputs": [],
   "source": [
    "input_data = ('0,9 -> 5,9\\n'\n",
    "              '8,0 -> 0,8\\n'\n",
    "              '9,4 -> 3,4\\n'\n",
    "              '2,2 -> 2,1\\n'\n",
    "              '7,0 -> 7,4\\n'\n",
    "              '6,4 -> 2,0\\n'\n",
    "              '0,9 -> 2,9\\n'\n",
    "              '3,4 -> 1,4\\n'\n",
    "              '0,0 -> 8,8\\n'\n",
    "              '5,5 -> 8,2')\n",
    "\n",
    "lines = input_data.split('\\n')\n",
    "\n",
    "points = []\n",
    "\n",
    "for line in lines:\n",
    "    points.append(list(map(int, re.split(',| -> ',  line))))\n",
    "points = np.array(points)\n",
    "\n",
    "mxpts = points.max()+1\n",
    "hits = np.zeros((mxpts, mxpts)).astype('int64')\n",
    "\n",
    "for line in points:\n",
    "    x1, y1, x2, y2 = line\n",
    "    if x1 == x2:\n",
    "        if y1 < y2:\n",
    "            hits[y1:y2+1, x1] += 1\n",
    "        else:\n",
    "            hits[y2:y1+1, x1] += 1\n",
    "    elif y1 == y2:\n",
    "        if x1 < x2:\n",
    "            hits[y1, x1:x2+1] += 1\n",
    "        else:\n",
    "            hits[y1, x2:x1+1] += 1\n",
    "(hits == 2).sum()"
   ]
  },
  {
   "cell_type": "markdown",
   "id": "ba4841d7-0dd9-4ffd-b27b-3cb2acdf22c5",
   "metadata": {},
   "source": [
    "## Part 2 - Test"
   ]
  },
  {
   "cell_type": "code",
   "execution_count": null,
   "id": "35970243-8d55-4d7e-aa79-52390e206087",
   "metadata": {},
   "outputs": [],
   "source": [
    "mxpts = points.max()+1\n",
    "hits = np.zeros((mxpts, mxpts)).astype('int64')\n",
    "\n",
    "for line in points:\n",
    "    x1, y1, x2, y2 = line\n",
    "    if x1 == x2:\n",
    "        if y1 < y2:\n",
    "            hits[y1:y2+1, x1] += 1\n",
    "        else:\n",
    "            hits[y2:y1+1, x1] += 1\n",
    "    elif y1 == y2:\n",
    "        if x1 < x2:\n",
    "            hits[y1, x1:x2+1] += 1\n",
    "        else:\n",
    "            hits[y1, x2:x1+1] += 1\n",
    "    else:\n",
    "        if x1<x2 and y1<y2:\n",
    "            for x, y in zip(range(x1,x2+1), range(y1,y2+1)):\n",
    "                hits[y, x] += 1\n",
    "        elif x1<x2 and y2<y1:\n",
    "            for x, y in zip(range(x1,x2+1), range(y1,y2-1,-1)):\n",
    "                hits[y, x] += 1\n",
    "        elif x2<x1 and y1<y2:\n",
    "            for x, y in zip(range(x1,x2-1,-1), range(y1,y2+1)):\n",
    "                hits[y, x] += 1\n",
    "        else:\n",
    "            for x, y in zip(range(x1,x2-1,-1), range(y1,y2-1,-1)):\n",
    "                hits[y, x] += 1\n",
    "(hits >= 2).sum()"
   ]
  },
  {
   "cell_type": "code",
   "execution_count": null,
   "id": "3587f875-4592-489f-a3d6-8fc81cb210ea",
   "metadata": {},
   "outputs": [],
   "source": [
    "hits"
   ]
  },
  {
   "cell_type": "markdown",
   "id": "e74f6164-6c7e-4ab5-960e-8d9f945ab46c",
   "metadata": {},
   "source": [
    "## Part 1 - Solution"
   ]
  },
  {
   "cell_type": "code",
   "execution_count": null,
   "id": "48f4cbff-d442-461f-80b1-d6f53ace43f7",
   "metadata": {},
   "outputs": [],
   "source": [
    "with open('day5_input.txt') as f:\n",
    "    lines = f.read().splitlines()"
   ]
  },
  {
   "cell_type": "code",
   "execution_count": null,
   "id": "a74b137a-dc5f-43d0-a265-4d1077e0668a",
   "metadata": {},
   "outputs": [],
   "source": [
    "points = []\n",
    "\n",
    "for line in lines:\n",
    "    points.append(list(map(int, re.split(',| -> ',  line))))\n",
    "points = np.array(points)\n",
    "\n",
    "mxpts = points.max()+1\n",
    "hits = np.zeros((mxpts, mxpts)).astype('int64')\n",
    "\n",
    "for line in points:\n",
    "    x1, y1, x2, y2 = line\n",
    "    if x1 == x2:\n",
    "        if y1 < y2:\n",
    "            hits[y1:y2+1, x1] += 1\n",
    "        else:\n",
    "            hits[y2:y1+1, x1] += 1\n",
    "    elif y1 == y2:\n",
    "        if x1 < x2:\n",
    "            hits[y1, x1:x2+1] += 1\n",
    "        else:\n",
    "            hits[y1, x2:x1+1] += 1\n",
    "(hits >= 2).sum()"
   ]
  },
  {
   "cell_type": "markdown",
   "id": "1adcf06f-ca3f-445f-aae5-334c9aacd65e",
   "metadata": {},
   "source": [
    "## Part 2 - Solution"
   ]
  },
  {
   "cell_type": "code",
   "execution_count": null,
   "id": "31872897-5644-4e39-862e-e9545fcc6529",
   "metadata": {},
   "outputs": [],
   "source": [
    "points = []\n",
    "\n",
    "for line in lines:\n",
    "    points.append(list(map(int, re.split(',| -> ',  line))))\n",
    "points = np.array(points)\n",
    "\n",
    "mxpts = points.max()+1\n",
    "hits = np.zeros((mxpts, mxpts)).astype('int64')\n",
    "\n",
    "for line in points:\n",
    "    x1, y1, x2, y2 = line\n",
    "    if x1 == x2:\n",
    "        if y1 < y2:\n",
    "            hits[y1:y2+1, x1] += 1\n",
    "        else:\n",
    "            hits[y2:y1+1, x1] += 1\n",
    "    elif y1 == y2:\n",
    "        if x1 < x2:\n",
    "            hits[y1, x1:x2+1] += 1\n",
    "        else:\n",
    "            hits[y1, x2:x1+1] += 1\n",
    "    else:\n",
    "        if x1<x2 and y1<y2:\n",
    "            for x, y in zip(range(x1,x2+1), range(y1,y2+1)):\n",
    "                hits[y, x] += 1\n",
    "        elif x1<x2 and y2<y1:\n",
    "            for x, y in zip(range(x1,x2+1), range(y1,y2-1,-1)):\n",
    "                hits[y, x] += 1\n",
    "        elif x2<x1 and y1<y2:\n",
    "            for x, y in zip(range(x1,x2-1,-1), range(y1,y2+1)):\n",
    "                hits[y, x] += 1\n",
    "        else:\n",
    "            for x, y in zip(range(x1,x2-1,-1), range(y1,y2-1,-1)):\n",
    "                hits[y, x] += 1\n",
    "(hits >= 2).sum()"
   ]
  },
  {
   "cell_type": "code",
   "execution_count": null,
   "id": "61f16393-36b6-4228-afc0-3c8f3a5f80f8",
   "metadata": {},
   "outputs": [],
   "source": []
  }
 ],
 "metadata": {
  "kernelspec": {
   "display_name": "Python 3 (ipykernel)",
   "language": "python",
   "name": "python3"
  },
  "language_info": {
   "codemirror_mode": {
    "name": "ipython",
    "version": 3
   },
   "file_extension": ".py",
   "mimetype": "text/x-python",
   "name": "python",
   "nbconvert_exporter": "python",
   "pygments_lexer": "ipython3",
   "version": "3.8.12"
  }
 },
 "nbformat": 4,
 "nbformat_minor": 5
}
