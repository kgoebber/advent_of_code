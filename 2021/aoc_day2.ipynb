{
 "cells": [
  {
   "cell_type": "markdown",
   "id": "2284174e-20b6-401d-8633-565afa21a566",
   "metadata": {},
   "source": [
    "## Part 1 Test"
   ]
  },
  {
   "cell_type": "code",
   "execution_count": null,
   "id": "7877c12c-f4c0-4a96-808d-7701f9e0d297",
   "metadata": {},
   "outputs": [],
   "source": [
    "moves = ('forward 5\\n'\n",
    "         'down 5\\n'\n",
    "         'forward 8\\n'\n",
    "         'up 3\\n'\n",
    "         'down 8\\n'\n",
    "         'forward 2')\n",
    "\n",
    "commands = moves.split('\\n')"
   ]
  },
  {
   "cell_type": "code",
   "execution_count": null,
   "id": "f51cd3da-e9e7-400d-ad4b-2949db4bc515",
   "metadata": {},
   "outputs": [],
   "source": [
    "h = 0\n",
    "d = 0\n",
    "for command in commands:\n",
    "    move, step = command.split()\n",
    "    print(move, step)\n",
    "    if move == 'forward':\n",
    "        h += int(step)\n",
    "    elif move == 'down':\n",
    "        d += int(step)\n",
    "    elif move == 'up':\n",
    "        d -= int(step)\n",
    "\n",
    "print(h)\n",
    "print(d)\n",
    "print(h*d)"
   ]
  },
  {
   "cell_type": "markdown",
   "id": "8e36c76c-cd12-4346-8426-7bcfae20b0b4",
   "metadata": {},
   "source": [
    "## Part 2 Test"
   ]
  },
  {
   "cell_type": "code",
   "execution_count": null,
   "id": "8b43e96c-0f28-490a-824d-89d20651880c",
   "metadata": {},
   "outputs": [],
   "source": [
    "h = 0\n",
    "d = 0\n",
    "a = 0\n",
    "for command in commands:\n",
    "    move, step = command.split()\n",
    "    print(move, step)\n",
    "    if move == 'down':\n",
    "        a += int(step)\n",
    "    elif move == 'up':\n",
    "        a -= int(step)\n",
    "    elif move == 'forward':\n",
    "        h += int(step)\n",
    "        d += a*int(step)\n",
    "\n",
    "print(h)\n",
    "print(d)\n",
    "print(h*d)"
   ]
  },
  {
   "cell_type": "markdown",
   "id": "a8013892-aa08-4086-a049-6aef15a67f2b",
   "metadata": {},
   "source": [
    "## Part 1 Solution"
   ]
  },
  {
   "cell_type": "code",
   "execution_count": null,
   "id": "029ba33e-e8b0-46fb-9dd5-e4a101bbf741",
   "metadata": {},
   "outputs": [],
   "source": [
    "with open('day2_input.txt') as f:\n",
    "    data = f.read().splitlines()"
   ]
  },
  {
   "cell_type": "code",
   "execution_count": null,
   "id": "40e6accf-5234-4587-9263-26c6a8d08ec2",
   "metadata": {},
   "outputs": [],
   "source": [
    "h = 0\n",
    "d = 0\n",
    "for command in data:\n",
    "    move, step = command.split()\n",
    "#    print(move, step)\n",
    "    if move == 'forward':\n",
    "        h += int(step)\n",
    "    elif move == 'down':\n",
    "        d += int(step)\n",
    "    elif move == 'up':\n",
    "        d -= int(step)\n",
    "\n",
    "print(h)\n",
    "print(d)\n",
    "print(h*d)"
   ]
  },
  {
   "cell_type": "markdown",
   "id": "01a157b8-2c5b-493f-8c8b-ae8e17b3dce2",
   "metadata": {},
   "source": [
    "## Part 2 Solution"
   ]
  },
  {
   "cell_type": "code",
   "execution_count": null,
   "id": "f975769a-5ffe-4edd-a028-1b6e008579d7",
   "metadata": {},
   "outputs": [],
   "source": [
    "h = 0\n",
    "d = 0\n",
    "a = 0\n",
    "for command in data:\n",
    "    move, step = command.split()\n",
    "#    print(move, step)\n",
    "    if move == 'down':\n",
    "        a += int(step)\n",
    "    elif move == 'up':\n",
    "        a -= int(step)\n",
    "    elif move == 'forward':\n",
    "        h += int(step)\n",
    "        d += a*int(step)\n",
    "\n",
    "print(h)\n",
    "print(d)\n",
    "print(h*d)"
   ]
  },
  {
   "cell_type": "code",
   "execution_count": null,
   "id": "f37a8704-91cc-45dc-ba4f-cd7ffcb8352e",
   "metadata": {},
   "outputs": [],
   "source": []
  }
 ],
 "metadata": {
  "kernelspec": {
   "display_name": "Python 3 (ipykernel)",
   "language": "python",
   "name": "python3"
  },
  "language_info": {
   "codemirror_mode": {
    "name": "ipython",
    "version": 3
   },
   "file_extension": ".py",
   "mimetype": "text/x-python",
   "name": "python",
   "nbconvert_exporter": "python",
   "pygments_lexer": "ipython3",
   "version": "3.8.12"
  }
 },
 "nbformat": 4,
 "nbformat_minor": 5
}
