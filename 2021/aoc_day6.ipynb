{
 "cells": [
  {
   "cell_type": "code",
   "execution_count": null,
   "id": "8ed10fd7-ee26-442a-b6ed-48cd8c40f701",
   "metadata": {},
   "outputs": [],
   "source": [
    "from collections import Counter\n",
    "import numpy as np"
   ]
  },
  {
   "cell_type": "markdown",
   "id": "ccf8733f-257a-498c-815e-1d0a08cd7d01",
   "metadata": {},
   "source": [
    "## Part 1 - Test"
   ]
  },
  {
   "cell_type": "code",
   "execution_count": null,
   "id": "f6927264-9e10-42c0-a03f-59fcad2bbcac",
   "metadata": {},
   "outputs": [],
   "source": [
    "input_data = '3,4,3,1,2'\n",
    "data = np.array(list(map(int, input_data.split(','))))\n",
    "\n",
    "for i in range(175):\n",
    "    data -= 1\n",
    "    if (data < 0).any():\n",
    "        add_fish = (data == -1).sum()\n",
    "\n",
    "        data[data == -1] = 6\n",
    "        data = np.append(data, [8]*add_fish)\n",
    "print(len(data))"
   ]
  },
  {
   "cell_type": "markdown",
   "id": "b9b272ad-e5c4-4e4c-92b9-eb4d9ecee123",
   "metadata": {},
   "source": [
    "## Part 2 - Test\n",
    "\n",
    "Had to pivot to the Counter as the array size becomes too large and the need to just count the number of fish in each stage of life and update as you go along."
   ]
  },
  {
   "cell_type": "code",
   "execution_count": null,
   "id": "0554a6c9-b7e1-44f7-b59c-f64313b93424",
   "metadata": {},
   "outputs": [],
   "source": [
    "input_data = '3,4,3,1,2'\n",
    "data = np.array(list(map(int, input_data.split(','))))\n",
    "\n",
    "counts = Counter(data)\n",
    "for i in range(256):\n",
    "    for j in range(-1, 9):\n",
    "        counts[j] = counts[j+1]\n",
    "    counts[6] += counts[-1]\n",
    "    counts[8] += counts[-1]\n",
    "    counts[-1] = 0\n",
    "sum(counts.values())"
   ]
  },
  {
   "cell_type": "markdown",
   "id": "365f4282-343c-4014-bf78-98a0a36767d9",
   "metadata": {},
   "source": [
    "## Part 1 - Solution"
   ]
  },
  {
   "cell_type": "code",
   "execution_count": null,
   "id": "f121596b-8782-475b-9ff9-ddea7b82a29e",
   "metadata": {},
   "outputs": [],
   "source": [
    "with open('day6_input.txt') as f:\n",
    "    input_data = f.readline()\n",
    "data = np.array(list(map(int, input_data.split(','))))\n",
    "\n",
    "for i in range(80):\n",
    "    data -= 1\n",
    "    if (data < 0).any():\n",
    "        add_fish = (data == -1).sum()\n",
    "\n",
    "        data[data == -1] = 6\n",
    "        data = np.append(data, [8]*add_fish)\n",
    "    #print(f'Day {i+1}: {data}')\n",
    "print(len(data))"
   ]
  },
  {
   "cell_type": "markdown",
   "id": "a21a2bd7-db27-4ecf-913a-a24d0847c6ee",
   "metadata": {},
   "source": [
    "## Part 2 - Solution"
   ]
  },
  {
   "cell_type": "code",
   "execution_count": null,
   "id": "8872eed8-a8f1-47bc-8582-db5d42f6df4e",
   "metadata": {},
   "outputs": [],
   "source": [
    "with open('day6_input.txt') as f:\n",
    "    input_data = f.readline()\n",
    "data = np.array(list(map(int, input_data.split(','))))\n",
    "\n",
    "counts = Counter(data)\n",
    "for i in range(256):\n",
    "    for j in range(-1, 9):\n",
    "        counts[j] = counts[j+1]\n",
    "    counts[6] += counts[-1]\n",
    "    counts[8] += counts[-1]\n",
    "    counts[-1] = 0\n",
    "    \n",
    "sum(counts.values())"
   ]
  },
  {
   "cell_type": "code",
   "execution_count": null,
   "id": "5119bca1-11d2-4982-9956-cc217188970e",
   "metadata": {},
   "outputs": [],
   "source": []
  }
 ],
 "metadata": {
  "kernelspec": {
   "display_name": "Python 3 (ipykernel)",
   "language": "python",
   "name": "python3"
  },
  "language_info": {
   "codemirror_mode": {
    "name": "ipython",
    "version": 3
   },
   "file_extension": ".py",
   "mimetype": "text/x-python",
   "name": "python",
   "nbconvert_exporter": "python",
   "pygments_lexer": "ipython3",
   "version": "3.8.12"
  }
 },
 "nbformat": 4,
 "nbformat_minor": 5
}
