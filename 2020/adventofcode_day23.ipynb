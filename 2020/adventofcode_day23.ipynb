{
 "cells": [
  {
   "cell_type": "code",
   "execution_count": 1,
   "metadata": {},
   "outputs": [],
   "source": [
    "cups = list(map(int, list('389125467')))"
   ]
  },
  {
   "cell_type": "code",
   "execution_count": 2,
   "metadata": {},
   "outputs": [
    {
     "data": {
      "text/plain": [
       "[3, 8, 9, 1, 2, 5, 4, 6, 7]"
      ]
     },
     "execution_count": 2,
     "metadata": {},
     "output_type": "execute_result"
    }
   ],
   "source": [
    "cups"
   ]
  },
  {
   "cell_type": "code",
   "execution_count": 3,
   "metadata": {},
   "outputs": [],
   "source": [
    "def get_destination(check_cup, next_three):\n",
    "    destination = check_cup - 1\n",
    "    if destination < 1:\n",
    "        destination = 9\n",
    "    while destination in next_three:\n",
    "        destination -= 1\n",
    "        if destination < 1:\n",
    "            destination = 9\n",
    "    return destination"
   ]
  },
  {
   "cell_type": "code",
   "execution_count": 10,
   "metadata": {},
   "outputs": [
    {
     "name": "stdout",
     "output_type": "stream",
     "text": [
      "[8, 1, 4, 9, 5, 7, 6, 3, 2]\n",
      "49576328"
     ]
    }
   ],
   "source": [
    "cups = list(map(int, list('523764819')))\n",
    "for _ in range(100):\n",
    "    current_cup = cups.pop(0)\n",
    "    #print(current_cup)\n",
    "    next_three = cups[:3]\n",
    "    #print(next_three)\n",
    "    del cups[:3]\n",
    "    destination = get_destination(current_cup, next_three)\n",
    "    #print(destination)\n",
    "    cups.append(current_cup)\n",
    "    split_index = cups.index(destination)+1\n",
    "    cups = cups[:split_index] + next_three + cups[split_index:]\n",
    "    #for i, val in enumerate(next_three):\n",
    "    #    cups.insert(cups.index(destination)+1+i, val)\n",
    "    #print(cups)\n",
    "    #print()\n",
    "print(cups)\n",
    "final_order = cups[cups.index(1)+1:]+cups[:cups.index(1)]\n",
    "for val in final_order:\n",
    "    print(val, end='')"
   ]
  },
  {
   "cell_type": "code",
   "execution_count": 12,
   "metadata": {},
   "outputs": [
    {
     "name": "stderr",
     "output_type": "stream",
     "text": [
      "IOPub data rate exceeded.\n",
      "The notebook server will temporarily stop sending output\n",
      "to the client in order to avoid crashing it.\n",
      "To change this limit, set the config variable\n",
      "`--NotebookApp.iopub_data_rate_limit`.\n",
      "\n",
      "Current values:\n",
      "NotebookApp.iopub_data_rate_limit=1000000.0 (bytes/sec)\n",
      "NotebookApp.rate_limit_window=3.0 (secs)\n",
      "\n"
     ]
    }
   ],
   "source": [
    "cups = list(map(int, list('523764819'))) + list(range(10, 1000001))\n",
    "for _ in range(2):\n",
    "    current_cup = cups.pop(0)\n",
    "    #print(current_cup)\n",
    "    next_three = cups[:3]\n",
    "    #print(next_three)\n",
    "    del cups[:3]\n",
    "    destination = get_destination(current_cup, next_three)\n",
    "    #print(destination)\n",
    "    cups.append(current_cup)\n",
    "    split_index = cups.index(destination)+1\n",
    "    cups = cups[:split_index] + next_three + cups[split_index:]\n",
    "    for i, val in enumerate(next_three):\n",
    "        cups.insert(cups.index(destination)+1+i, val)\n",
    "    #print(cups)\n",
    "    #print()\n",
    "print(cups)\n",
    "final_order = cups[cups.index(1)+1:]+cups[:cups.index(1)]\n",
    "print(final_order[:3])"
   ]
  },
  {
   "cell_type": "code",
   "execution_count": 5,
   "metadata": {},
   "outputs": [],
   "source": [
    "cups = list(map(int, list('523764819'))) + list(range(10, 1000001))\n",
    "d = {}\n",
    "for i in range(len(cups)):\n",
    "    if i == len(cups)-1:\n",
    "        d[cups[i]] = cups[0]\n",
    "    else:\n",
    "        d[cups[i]] = cups[i+1]"
   ]
  },
  {
   "cell_type": "code",
   "execution_count": 6,
   "metadata": {},
   "outputs": [
    {
     "name": "stdout",
     "output_type": "stream",
     "text": [
      "511780369955\n"
     ]
    }
   ],
   "source": [
    "start = int(cups[0])\n",
    "for i in range((1000000*10)+1):\n",
    "    a = d[start]\n",
    "    b = d[a]\n",
    "    c = d[b]\n",
    "    d[start] = d[c]\n",
    "    put = start-1\n",
    "    if put in [a,b,c] or put < 1:\n",
    "        while put in [a,b,c] or put < 1:\n",
    "            put -=1\n",
    "            if put < 1:\n",
    "                put = 1000000\n",
    "    d[c] = d[put]\n",
    "    d[put] = a\n",
    "    start = d[start]\n",
    "\n",
    "print(d[1] * d[d[1]])"
   ]
  },
  {
   "cell_type": "code",
   "execution_count": null,
   "metadata": {},
   "outputs": [],
   "source": []
  }
 ],
 "metadata": {
  "kernelspec": {
   "display_name": "Python 3",
   "language": "python",
   "name": "python3"
  },
  "language_info": {
   "codemirror_mode": {
    "name": "ipython",
    "version": 3
   },
   "file_extension": ".py",
   "mimetype": "text/x-python",
   "name": "python",
   "nbconvert_exporter": "python",
   "pygments_lexer": "ipython3",
   "version": "3.8.6"
  }
 },
 "nbformat": 4,
 "nbformat_minor": 4
}
