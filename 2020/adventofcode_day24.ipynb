{
 "cells": [
  {
   "cell_type": "code",
   "execution_count": 34,
   "metadata": {},
   "outputs": [],
   "source": [
    "tile = 'nwwswee'"
   ]
  },
  {
   "cell_type": "code",
   "execution_count": 87,
   "metadata": {},
   "outputs": [],
   "source": [
    "from collections import defaultdict\n",
    "import numpy as np"
   ]
  },
  {
   "cell_type": "code",
   "execution_count": 55,
   "metadata": {},
   "outputs": [],
   "source": [
    "with open('day24_input.txt') as f:\n",
    "    data = f.read().splitlines()"
   ]
  },
  {
   "cell_type": "code",
   "execution_count": 60,
   "metadata": {},
   "outputs": [],
   "source": [
    "tile_dict = defaultdict(int)\n",
    "for tile in data:\n",
    "    north = 0\n",
    "    east = 0\n",
    "    i = 0\n",
    "    while i < len(tile):\n",
    "        if (tile[i:i+2] == 'ne'):\n",
    "            north += 1\n",
    "            east += 0.5\n",
    "            i += 2 \n",
    "        elif tile[i:i+2] == 'nw':\n",
    "            north += 1\n",
    "            east -= 0.5\n",
    "            i += 2\n",
    "        elif tile[i:i+2] == 'se':\n",
    "            north -= 1\n",
    "            east += 0.5\n",
    "            i += 2\n",
    "        elif tile[i:i+2] == 'sw':\n",
    "            north -= 1\n",
    "            east -= 0.5\n",
    "            i += 2\n",
    "        elif tile[i] == 'e':\n",
    "            east += 1\n",
    "            i += 1\n",
    "        elif tile[i] == 'w':\n",
    "            east -= 1\n",
    "            i += 1\n",
    "    if tile_dict[(north, east)] == 0:\n",
    "        tile_dict[(north, east)] = 1\n",
    "    elif tile_dict[(north, east)] == 1:\n",
    "        tile_dict[(north, east)] = 0\n",
    "    \n",
    "        "
   ]
  },
  {
   "cell_type": "code",
   "execution_count": 61,
   "metadata": {},
   "outputs": [],
   "source": [
    "black_tiles = 0\n",
    "for value in tile_dict.values():\n",
    "    if value == 1:\n",
    "        black_tiles += 1"
   ]
  },
  {
   "cell_type": "code",
   "execution_count": 62,
   "metadata": {},
   "outputs": [
    {
     "name": "stdout",
     "output_type": "stream",
     "text": [
      "388\n"
     ]
    }
   ],
   "source": [
    "print(black_tiles)"
   ]
  },
  {
   "cell_type": "code",
   "execution_count": 66,
   "metadata": {},
   "outputs": [
    {
     "data": {
      "text/plain": [
       "(-6, 4.0)"
      ]
     },
     "execution_count": 66,
     "metadata": {},
     "output_type": "execute_result"
    }
   ],
   "source": [
    "list(tile_dict.keys())[0]"
   ]
  },
  {
   "cell_type": "code",
   "execution_count": 74,
   "metadata": {},
   "outputs": [
    {
     "name": "stdout",
     "output_type": "stream",
     "text": [
      "(-6, 4.0)\n",
      "(15, 0.5)\n"
     ]
    }
   ],
   "source": [
    "for tile in list(tile_dict.keys())[0:2]:\n",
    "    print(black_tilestile)"
   ]
  },
  {
   "cell_type": "code",
   "execution_count": 130,
   "metadata": {},
   "outputs": [],
   "source": [
    "with open('day24_input.txt') as f:\n",
    "    data = f.read().splitlines()"
   ]
  },
  {
   "cell_type": "code",
   "execution_count": 131,
   "metadata": {},
   "outputs": [],
   "source": [
    "tile_dict = defaultdict(int)\n",
    "for tile in data:\n",
    "    north = 0\n",
    "    east = 0\n",
    "    i = 0\n",
    "    while i < len(tile):\n",
    "        if (tile[i:i+2] == 'ne'):\n",
    "            north += 1\n",
    "            east += 0.5\n",
    "            i += 2 \n",
    "        elif tile[i:i+2] == 'nw':\n",
    "            north += 1\n",
    "            east -= 0.5\n",
    "            i += 2\n",
    "        elif tile[i:i+2] == 'se':\n",
    "            north -= 1\n",
    "            east += 0.5\n",
    "            i += 2\n",
    "        elif tile[i:i+2] == 'sw':\n",
    "            north -= 1\n",
    "            east -= 0.5\n",
    "            i += 2\n",
    "        elif tile[i] == 'e':\n",
    "            east += 1\n",
    "            i += 1\n",
    "        elif tile[i] == 'w':\n",
    "            east -= 1\n",
    "            i += 1\n",
    "    if tile_dict[(north, east)] == 0:\n",
    "        tile_dict[(north, east)] = 1\n",
    "    elif tile_dict[(north, east)] == 1:\n",
    "        tile_dict[(north, east)] = 0\n",
    "\n",
    "north_keys = [val[0] for val in list(tile_dict.keys())]\n",
    "east_keys = [val[1] for val in list(tile_dict.keys())]"
   ]
  },
  {
   "cell_type": "code",
   "execution_count": 132,
   "metadata": {},
   "outputs": [],
   "source": [
    "all_tiles = defaultdict(int)\n",
    "for north in range(min(north_keys)-1, max(north_keys)+2):\n",
    "    for east in np.arange(min(east_keys)-1, max(east_keys)+2, 0.5):\n",
    "        if tile_dict[(north, east)] in [0, 1]:\n",
    "            all_tiles[(north, east)] = tile_dict[(north, east)]\n",
    "        else:\n",
    "            all_tiles[(north, east)] = 0"
   ]
  },
  {
   "cell_type": "code",
   "execution_count": 133,
   "metadata": {},
   "outputs": [
    {
     "name": "stdout",
     "output_type": "stream",
     "text": [
      "Day 1: 294\n",
      "Day 2: 329\n",
      "Day 3: 357\n",
      "Day 4: 387\n",
      "Day 5: 356\n",
      "Day 6: 395\n",
      "Day 7: 387\n",
      "Day 8: 461\n",
      "Day 9: 468\n",
      "Day 10: 462\n",
      "Day 11: 495\n",
      "Day 12: 511\n",
      "Day 13: 535\n",
      "Day 14: 577\n",
      "Day 15: 567\n",
      "Day 16: 619\n",
      "Day 17: 609\n",
      "Day 18: 671\n",
      "Day 19: 677\n",
      "Day 20: 682\n",
      "Day 21: 720\n",
      "Day 22: 762\n",
      "Day 23: 821\n",
      "Day 24: 772\n",
      "Day 25: 813\n",
      "Day 26: 858\n",
      "Day 27: 856\n",
      "Day 28: 896\n",
      "Day 29: 907\n",
      "Day 30: 902\n",
      "Day 31: 1033\n",
      "Day 32: 1051\n",
      "Day 33: 1061\n",
      "Day 34: 1011\n",
      "Day 35: 1085\n",
      "Day 36: 1125\n",
      "Day 37: 1225\n",
      "Day 38: 1222\n",
      "Day 39: 1259\n",
      "Day 40: 1268\n",
      "Day 41: 1321\n",
      "Day 42: 1341\n",
      "Day 43: 1341\n",
      "Day 44: 1429\n",
      "Day 45: 1417\n",
      "Day 46: 1509\n",
      "Day 47: 1519\n",
      "Day 48: 1651\n",
      "Day 49: 1588\n",
      "Day 50: 1643\n",
      "Day 51: 1585\n",
      "Day 52: 1719\n",
      "Day 53: 1804\n",
      "Day 54: 1746\n",
      "Day 55: 1842\n",
      "Day 56: 1804\n",
      "Day 57: 1949\n",
      "Day 58: 1975\n",
      "Day 59: 2000\n",
      "Day 60: 2050\n",
      "Day 61: 2070\n",
      "Day 62: 2076\n",
      "Day 63: 2179\n",
      "Day 64: 2099\n",
      "Day 65: 2302\n",
      "Day 66: 2261\n",
      "Day 67: 2320\n",
      "Day 68: 2411\n",
      "Day 69: 2540\n",
      "Day 70: 2482\n",
      "Day 71: 2520\n",
      "Day 72: 2575\n",
      "Day 73: 2662\n",
      "Day 74: 2557\n",
      "Day 75: 2736\n",
      "Day 76: 2701\n",
      "Day 77: 2863\n",
      "Day 78: 2817\n",
      "Day 79: 3025\n",
      "Day 80: 2847\n",
      "Day 81: 2901\n",
      "Day 82: 3034\n",
      "Day 83: 3089\n",
      "Day 84: 3065\n",
      "Day 85: 3173\n",
      "Day 86: 3239\n",
      "Day 87: 3302\n",
      "Day 88: 3323\n",
      "Day 89: 3373\n",
      "Day 90: 3307\n",
      "Day 91: 3532\n",
      "Day 92: 3634\n",
      "Day 93: 3567\n",
      "Day 94: 3683\n",
      "Day 95: 3722\n",
      "Day 96: 3715\n",
      "Day 97: 3809\n",
      "Day 98: 3828\n",
      "Day 99: 4041\n",
      "Day 100: 4002\n"
     ]
    }
   ],
   "source": [
    "for i in range(100):\n",
    "    hold_tiles = all_tiles.copy()\n",
    "    for tile in hold_tiles.keys():\n",
    "        tile_ne = all_tiles[(tile[0]+1, tile[1]+0.5)]\n",
    "        tile_se = all_tiles[(tile[0]-1, tile[1]+0.5)]\n",
    "        tile_nw = all_tiles[(tile[0]+1, tile[1]-0.5)]\n",
    "        tile_sw = all_tiles[(tile[0]-1, tile[1]-0.5)]\n",
    "        tile_e = all_tiles[(tile[0], tile[1]+1)]\n",
    "        tile_w = all_tiles[(tile[0], tile[1]-1)]\n",
    "        adj_black_tiles = tile_ne+tile_se+tile_nw+tile_sw+tile_e+tile_w\n",
    "        if (all_tiles[tile] == 1) and ((adj_black_tiles > 2) | (adj_black_tiles == 0)):\n",
    "            hold_tiles[tile] = 0\n",
    "        elif (all_tiles[tile] == 0) and (adj_black_tiles == 2):\n",
    "            hold_tiles[tile] = 1        \n",
    "    black_tiles = 0\n",
    "    for value in hold_tiles.values():\n",
    "        if value == 1:\n",
    "            black_tiles += 1\n",
    "    print(f'Day {i+1}: {black_tiles}')\n",
    "    all_tiles = hold_tiles.copy()\n",
    "    north_keys = [val[0] for val in list(all_tiles.keys())]\n",
    "    east_keys = [val[1] for val in list(all_tiles.keys())]\n",
    "    for north in range(min(north_keys)-1, max(north_keys)+2):\n",
    "        for east in np.arange(min(east_keys)-1, max(east_keys)+2, 0.5):\n",
    "            if all_tiles[(north, east)] not in [0, 1]:\n",
    "                all_tiles[(north, east)] = 0\n",
    "#print(black_tiles)"
   ]
  },
  {
   "cell_type": "code",
   "execution_count": null,
   "metadata": {},
   "outputs": [],
   "source": []
  }
 ],
 "metadata": {
  "kernelspec": {
   "display_name": "Python 3",
   "language": "python",
   "name": "python3"
  },
  "language_info": {
   "codemirror_mode": {
    "name": "ipython",
    "version": 3
   },
   "file_extension": ".py",
   "mimetype": "text/x-python",
   "name": "python",
   "nbconvert_exporter": "python",
   "pygments_lexer": "ipython3",
   "version": "3.8.6"
  }
 },
 "nbformat": 4,
 "nbformat_minor": 4
}
