{
 "cells": [
  {
   "cell_type": "code",
   "execution_count": 116,
   "metadata": {},
   "outputs": [],
   "source": [
    "from collections import defaultdict\n",
    "import re"
   ]
  },
  {
   "cell_type": "code",
   "execution_count": 143,
   "metadata": {},
   "outputs": [],
   "source": [
    "with open('day21_input.txt') as f:\n",
    "    data = f.read().splitlines()"
   ]
  },
  {
   "cell_type": "code",
   "execution_count": 144,
   "metadata": {},
   "outputs": [],
   "source": [
    "possibilities = defaultdict(list)\n",
    "all_ingredients = []\n",
    "for line in data:\n",
    "    ingredients, allergens = line.split('(contains')\n",
    "    for ingredient in ingredients.split():\n",
    "        all_ingredients.append(ingredient)\n",
    "    for allergen in allergens.strip().strip(')').split(', '):\n",
    "        possibilities[allergen].append(ingredients.split())\n",
    "        "
   ]
  },
  {
   "cell_type": "code",
   "execution_count": 145,
   "metadata": {},
   "outputs": [],
   "source": [
    "subset = {}\n",
    "for allergen in possibilities.keys():\n",
    "    subset[allergen] = list(set.intersection(*map(set, possibilities[allergen])))"
   ]
  },
  {
   "cell_type": "code",
   "execution_count": 153,
   "metadata": {},
   "outputs": [],
   "source": [
    "allergen_ingredient = []\n",
    "allergen_count = 0\n",
    "while allergen_count < 9:\n",
    "    for a in subset.values():\n",
    "        if len(a) == 1:\n",
    "            allergen_ingredient.append(a[0])\n",
    "            allergen_count += 1\n",
    "            for b in subset:\n",
    "                #print(subset[b])\n",
    "                #print(a)\n",
    "                if (len(subset[b]) > 1) and (a[0] in subset[b]): subset[b].remove(a[0])"
   ]
  },
  {
   "cell_type": "code",
   "execution_count": 154,
   "metadata": {},
   "outputs": [],
   "source": [
    "non_allergens = list(set(all_ingredients) - set(allergen_ingredient))"
   ]
  },
  {
   "cell_type": "code",
   "execution_count": 155,
   "metadata": {},
   "outputs": [],
   "source": [
    "count = 0\n",
    "for ingredient in all_ingredients:\n",
    "    if ingredient in non_allergens:\n",
    "        #print(ingredient)\n",
    "        count += 1\n",
    "#for allergen in non_allergens:"
   ]
  },
  {
   "cell_type": "code",
   "execution_count": 156,
   "metadata": {},
   "outputs": [
    {
     "data": {
      "text/plain": [
       "2635"
      ]
     },
     "execution_count": 156,
     "metadata": {},
     "output_type": "execute_result"
    }
   ],
   "source": [
    "count"
   ]
  },
  {
   "cell_type": "markdown",
   "metadata": {},
   "source": [
    "Part 2"
   ]
  },
  {
   "cell_type": "code",
   "execution_count": 173,
   "metadata": {},
   "outputs": [],
   "source": [
    "final_list = []\n",
    "for item in sorted(subset):\n",
    "    final_list.append(subset[item][0])"
   ]
  },
  {
   "cell_type": "code",
   "execution_count": 172,
   "metadata": {},
   "outputs": [
    {
     "data": {
      "text/plain": [
       "['dairy', 'fish', 'nuts', 'peanuts', 'sesame', 'shellfish', 'soy', 'wheat']"
      ]
     },
     "execution_count": 172,
     "metadata": {},
     "output_type": "execute_result"
    }
   ],
   "source": [
    "sorted(subset)"
   ]
  },
  {
   "cell_type": "code",
   "execution_count": 176,
   "metadata": {},
   "outputs": [
    {
     "name": "stdout",
     "output_type": "stream",
     "text": [
      "xncgqbcp,frkmp,qhqs,qnhjhn,dhsnxr,rzrktx,ntflq,lgnhmx,"
     ]
    }
   ],
   "source": [
    "for val in final_list:\n",
    "    print(val, end=',')"
   ]
  },
  {
   "cell_type": "code",
   "execution_count": null,
   "metadata": {},
   "outputs": [],
   "source": []
  }
 ],
 "metadata": {
  "kernelspec": {
   "display_name": "Python 3",
   "language": "python",
   "name": "python3"
  },
  "language_info": {
   "codemirror_mode": {
    "name": "ipython",
    "version": 3
   },
   "file_extension": ".py",
   "mimetype": "text/x-python",
   "name": "python",
   "nbconvert_exporter": "python",
   "pygments_lexer": "ipython3",
   "version": "3.8.6"
  }
 },
 "nbformat": 4,
 "nbformat_minor": 4
}
