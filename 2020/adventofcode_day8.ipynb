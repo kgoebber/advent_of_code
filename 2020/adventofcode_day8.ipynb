{
 "cells": [
  {
   "cell_type": "code",
   "execution_count": 1,
   "metadata": {},
   "outputs": [],
   "source": [
    "with open('day8_input.txt') as f:\n",
    "    data = f.read().splitlines()"
   ]
  },
  {
   "cell_type": "code",
   "execution_count": 2,
   "metadata": {},
   "outputs": [],
   "source": [
    "actions = []\n",
    "steps = []\n",
    "for item in data:\n",
    "    action_mode, step = item.split()\n",
    "    actions.append(action_mode)\n",
    "    steps.append(step)"
   ]
  },
  {
   "cell_type": "code",
   "execution_count": 3,
   "metadata": {},
   "outputs": [
    {
     "data": {
      "text/plain": [
       "612"
      ]
     },
     "execution_count": 3,
     "metadata": {},
     "output_type": "execute_result"
    }
   ],
   "source": [
    "len(actions)"
   ]
  },
  {
   "cell_type": "code",
   "execution_count": 4,
   "metadata": {},
   "outputs": [
    {
     "name": "stdout",
     "output_type": "stream",
     "text": [
      "1744\n"
     ]
    }
   ],
   "source": [
    "accumulator = 0\n",
    "action_list = []\n",
    "position = 0\n",
    "\n",
    "while position not in action_list:\n",
    "    action = actions[position]\n",
    "    if action == 'nop':\n",
    "        action_list.append(position)\n",
    "        position += 1\n",
    "    elif action == 'acc':\n",
    "        accumulator += int(steps[position])\n",
    "        action_list.append(position)\n",
    "        position += 1\n",
    "    elif action == 'jmp':\n",
    "        action_list.append(position)\n",
    "        position += int(steps[position])\n",
    "print(accumulator)"
   ]
  },
  {
   "cell_type": "code",
   "execution_count": 5,
   "metadata": {},
   "outputs": [
    {
     "name": "stdout",
     "output_type": "stream",
     "text": [
      "[0, 1, 2, 3, 4, 479, 480, 481, 273, 274, 409, 410, 411, 412, 413, 141, 142, 143, 144, 415, 416, 417, 590, 591, 175, 176, 177, 178, 32, 33, 164, 528, 529, 190, 191, 192, 193, 462, 130, 131, 132, 495, 496, 497, 498, 499, 380, 381, 343, 344, 345, 102, 103, 104, 105, 106, 491, 492, 493, 451, 452, 453, 454, 455, 89, 90, 91, 92, 93, 261, 262, 263, 264, 180, 181, 182, 183, 514, 515, 516, 517, 518, 153, 154, 392, 393, 394, 521, 522, 287, 288, 289, 290, 240, 241, 47, 48, 49, 270, 440, 441, 563, 466, 467, 468, 469, 565, 566, 539, 540, 541, 312, 313, 314, 315, 316, 547, 548, 549, 552, 251, 134, 135, 136, 137, 255, 256, 257, 258, 259, 399, 400, 26, 27, 160, 161, 507, 508, 509, 510, 426, 427, 38, 39, 40, 41, 42, 166, 167, 168, 169, 577, 578, 579, 195, 196, 197, 198, 158, 226, 227, 228, 402, 403, 404, 405, 173, 279, 280, 281, 282, 283, 485, 486, 487, 488, 58, 59, 60, 61, 62, 200, 201, 110, 111, 112, 113, 211, 212, 213, 357, 386, 146, 147, 148, 149, 150, 234, 235, 236, 237, 95, 96, 97, 368]\n"
     ]
    }
   ],
   "source": [
    "print(action_list)"
   ]
  },
  {
   "cell_type": "code",
   "execution_count": 6,
   "metadata": {},
   "outputs": [
    {
     "name": "stdout",
     "output_type": "stream",
     "text": [
      "612\n"
     ]
    }
   ],
   "source": [
    "print(len(actions))"
   ]
  },
  {
   "cell_type": "code",
   "execution_count": 7,
   "metadata": {},
   "outputs": [],
   "source": [
    "def find(lst, val):\n",
    "    return [i for i, x in enumerate(lst) if lst[i] == val]"
   ]
  },
  {
   "cell_type": "code",
   "execution_count": 9,
   "metadata": {},
   "outputs": [
    {
     "name": "stdout",
     "output_type": "stream",
     "text": [
      "Change position 441 from jmp to nop\n",
      "1174\n"
     ]
    }
   ],
   "source": [
    "\n",
    "change_locs = sorted(find(actions, 'nop') + find(actions, 'jmp'))\n",
    "\n",
    "for pos in change_locs:\n",
    "    accumulator = 0\n",
    "    action_list = []\n",
    "    position = 0\n",
    "    test_actions = actions.copy()\n",
    "    if actions[pos] == 'nop':\n",
    "        test_actions[pos] = 'jmp'\n",
    "    elif actions[pos] == 'jmp':\n",
    "        test_actions[pos] = 'nop'\n",
    "    while position not in action_list:\n",
    "        if position >= len(test_actions):\n",
    "            break\n",
    "        action = test_actions[position]\n",
    "        if action == 'nop':\n",
    "            action_list.append(position)\n",
    "            position += 1\n",
    "        elif action == 'acc':\n",
    "            accumulator += int(steps[position])\n",
    "            action_list.append(position)\n",
    "            position += 1\n",
    "        elif action == 'jmp':\n",
    "            action_list.append(position)\n",
    "            position += int(steps[position])\n",
    "    #print(position)\n",
    "    if action_list[-1] == len(test_actions) - 1:\n",
    "        print(f'Change position {pos} from {actions[pos]} to {test_actions[pos]}')\n",
    "        print(accumulator)\n",
    "        break"
   ]
  },
  {
   "cell_type": "code",
   "execution_count": null,
   "metadata": {},
   "outputs": [],
   "source": []
  }
 ],
 "metadata": {
  "kernelspec": {
   "display_name": "Python 3",
   "language": "python",
   "name": "python3"
  },
  "language_info": {
   "codemirror_mode": {
    "name": "ipython",
    "version": 3
   },
   "file_extension": ".py",
   "mimetype": "text/x-python",
   "name": "python",
   "nbconvert_exporter": "python",
   "pygments_lexer": "ipython3",
   "version": "3.8.6"
  }
 },
 "nbformat": 4,
 "nbformat_minor": 4
}
