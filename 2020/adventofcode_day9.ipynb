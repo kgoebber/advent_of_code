{
 "cells": [
  {
   "cell_type": "code",
   "execution_count": 6,
   "metadata": {},
   "outputs": [],
   "source": [
    "from itertools import combinations\n",
    "import re"
   ]
  },
  {
   "cell_type": "code",
   "execution_count": 16,
   "metadata": {},
   "outputs": [],
   "source": [
    "with open('day9_input.txt') as f:\n",
    "    data = f.read().splitlines()\n",
    "    data = [int(i) for i in data]"
   ]
  },
  {
   "cell_type": "markdown",
   "metadata": {},
   "source": [
    "Part 1"
   ]
  },
  {
   "cell_type": "code",
   "execution_count": 17,
   "metadata": {},
   "outputs": [
    {
     "name": "stdout",
     "output_type": "stream",
     "text": [
      "21806024\n"
     ]
    }
   ],
   "source": [
    "preamble = 25\n",
    "for i, val in enumerate(data[preamble:]):\n",
    "    if val not in [sum(i) for i in combinations(data[i:preamble+i], 2)]:\n",
    "        fail_num = val\n",
    "print(fail_num)"
   ]
  },
  {
   "cell_type": "markdown",
   "metadata": {},
   "source": [
    "Part 2"
   ]
  },
  {
   "cell_type": "code",
   "execution_count": 49,
   "metadata": {},
   "outputs": [
    {
     "name": "stdout",
     "output_type": "stream",
     "text": [
      "2986195\n"
     ]
    }
   ],
   "source": [
    "# Solution 1 - Faster\n",
    "for group in range(2, len(data) // 2):\n",
    "    test_data = [sum(data[i:i+group]) for i in range(len(data) - group + 1)]\n",
    "    if fail_num in test_data:\n",
    "        idx = test_data.index(fail_num)\n",
    "        grouped_data = [data[i:i+group] for i in range(len(data) - group + 1)][idx]\n",
    "        print(max(grouped_data)+min(grouped_data))\n",
    "        break"
   ]
  },
  {
   "cell_type": "code",
   "execution_count": 50,
   "metadata": {},
   "outputs": [
    {
     "name": "stdout",
     "output_type": "stream",
     "text": [
      "2986195\n"
     ]
    }
   ],
   "source": [
    "# Refactored - Solution 2\n",
    "for group in range(2, len(data) // 2):\n",
    "    test_data = [data[i:i+group] for i in range(len(data) - group + 1)]\n",
    "    for vals in test_data:\n",
    "        if fail_num == sum(vals):\n",
    "            print(max(vals) + min(vals))\n",
    "            break"
   ]
  },
  {
   "cell_type": "code",
   "execution_count": null,
   "metadata": {},
   "outputs": [],
   "source": []
  }
 ],
 "metadata": {
  "kernelspec": {
   "display_name": "Python 3",
   "language": "python",
   "name": "python3"
  },
  "language_info": {
   "codemirror_mode": {
    "name": "ipython",
    "version": 3
   },
   "file_extension": ".py",
   "mimetype": "text/x-python",
   "name": "python",
   "nbconvert_exporter": "python",
   "pygments_lexer": "ipython3",
   "version": "3.8.6"
  }
 },
 "nbformat": 4,
 "nbformat_minor": 4
}
