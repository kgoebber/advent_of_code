{
 "cells": [
  {
   "cell_type": "code",
   "execution_count": 52,
   "metadata": {},
   "outputs": [],
   "source": [
    "boarding_pass = 'BBFFBBFRLL'"
   ]
  },
  {
   "cell_type": "code",
   "execution_count": 53,
   "metadata": {},
   "outputs": [],
   "source": [
    "def find_pos(value, min_pos, max_pos):\n",
    "    range_pos = max_pos - min_pos\n",
    "    for pos in value:\n",
    "        if pos in ['F', 'L']:\n",
    "            min_pos = min_pos\n",
    "            max_pos = min_pos + int(range_pos / 2)\n",
    "        elif pos in ['B', 'R']:\n",
    "            min_pos = max_pos - int(range_pos / 2)\n",
    "            max_pos = max_pos\n",
    "        range_pos = max_pos-min_pos\n",
    "    return max_pos"
   ]
  },
  {
   "cell_type": "code",
   "execution_count": 56,
   "metadata": {},
   "outputs": [],
   "source": [
    "with open('day5_input.txt') as f:\n",
    "    data = f.readlines()"
   ]
  },
  {
   "cell_type": "code",
   "execution_count": 66,
   "metadata": {},
   "outputs": [],
   "source": [
    "max_seat_number = -999\n",
    "seat_numbers = []\n",
    "for boarding_pass in data:\n",
    "    row_pos = find_pos(boarding_pass.strip()[:-3], 0, 127)\n",
    "    col_pos = find_pos(boarding_pass.strip()[-3:], 0, 7)\n",
    "    seat_number = row_pos * 8 + col_pos\n",
    "    seat_numbers.append(seat_number)\n",
    "    if seat_number > max_seat_number:\n",
    "        max_seat_number = seat_number"
   ]
  },
  {
   "cell_type": "markdown",
   "metadata": {},
   "source": [
    "Part 2"
   ]
  },
  {
   "cell_type": "code",
   "execution_count": 75,
   "metadata": {},
   "outputs": [
    {
     "name": "stdout",
     "output_type": "stream",
     "text": [
      "633\n"
     ]
    }
   ],
   "source": [
    "prev_seat = sorted(seat_numbers)[0]\n",
    "for filled_seat in sorted(seat_numbers)[1:]:\n",
    "    if (filled_seat - prev_seat) == 2:\n",
    "        print((filled_seat + prev_seat) // 2)\n",
    "    prev_seat = filled_seat"
   ]
  },
  {
   "cell_type": "code",
   "execution_count": null,
   "metadata": {},
   "outputs": [],
   "source": []
  }
 ],
 "metadata": {
  "kernelspec": {
   "display_name": "Python 3",
   "language": "python",
   "name": "python3"
  },
  "language_info": {
   "codemirror_mode": {
    "name": "ipython",
    "version": 3
   },
   "file_extension": ".py",
   "mimetype": "text/x-python",
   "name": "python",
   "nbconvert_exporter": "python",
   "pygments_lexer": "ipython3",
   "version": "3.8.6"
  }
 },
 "nbformat": 4,
 "nbformat_minor": 4
}
