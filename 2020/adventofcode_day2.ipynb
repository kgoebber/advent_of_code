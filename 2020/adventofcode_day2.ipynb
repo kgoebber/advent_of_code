{
 "cells": [
  {
   "cell_type": "code",
   "execution_count": 4,
   "metadata": {},
   "outputs": [],
   "source": [
    "import re\n",
    "example_data = ['1-3 a: abcde', '1-3 b: cdefg', '2-9 c: ccccccccc']"
   ]
  },
  {
   "cell_type": "code",
   "execution_count": 5,
   "metadata": {},
   "outputs": [],
   "source": [
    "with open('day2_input.txt') as f:\n",
    "    data_input = f.readlines()"
   ]
  },
  {
   "cell_type": "markdown",
   "metadata": {},
   "source": [
    "Part 1"
   ]
  },
  {
   "cell_type": "code",
   "execution_count": 6,
   "metadata": {},
   "outputs": [
    {
     "name": "stdout",
     "output_type": "stream",
     "text": [
      "620\n"
     ]
    }
   ],
   "source": [
    "error_count = 0\n",
    "for data in data_input:\n",
    "    min_policy, max_policy, letter_policy, password = re.split(': |-| ', data)\n",
    "    letter_count = password.count(letter_policy)\n",
    "    if (letter_count >= int(min_policy)) and (letter_count <= int(max_policy)):\n",
    "        error_count += 1\n",
    "print(error_count)"
   ]
  },
  {
   "cell_type": "markdown",
   "metadata": {},
   "source": [
    "Part 2"
   ]
  },
  {
   "cell_type": "code",
   "execution_count": 13,
   "metadata": {},
   "outputs": [
    {
     "name": "stdout",
     "output_type": "stream",
     "text": [
      "727\n"
     ]
    }
   ],
   "source": [
    "correct_count = 0\n",
    "for data in data_input:\n",
    "    pos1_policy, pos2_policy, letter_policy, password = re.split(': |-| ', data)\n",
    "    pos1_test = password[int(pos1_policy)-1] == letter_policy\n",
    "    pos2_test = password[int(pos2_policy)-1] == letter_policy\n",
    "    if (pos1_test != pos2_test):\n",
    "        correct_count +=1\n",
    "print(correct_count)\n",
    "        "
   ]
  },
  {
   "cell_type": "code",
   "execution_count": null,
   "metadata": {},
   "outputs": [],
   "source": []
  }
 ],
 "metadata": {
  "kernelspec": {
   "display_name": "Python 3",
   "language": "python",
   "name": "python3"
  },
  "language_info": {
   "codemirror_mode": {
    "name": "ipython",
    "version": 3
   },
   "file_extension": ".py",
   "mimetype": "text/x-python",
   "name": "python",
   "nbconvert_exporter": "python",
   "pygments_lexer": "ipython3",
   "version": "3.8.6"
  }
 },
 "nbformat": 4,
 "nbformat_minor": 4
}
