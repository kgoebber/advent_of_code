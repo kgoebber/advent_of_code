{
 "cells": [
  {
   "cell_type": "code",
   "execution_count": 6,
   "metadata": {},
   "outputs": [],
   "source": [
    "import numpy as np"
   ]
  },
  {
   "cell_type": "code",
   "execution_count": 7,
   "metadata": {},
   "outputs": [],
   "source": [
    "with open('day13_input.txt') as f:\n",
    "    arrival_time = int(f.readline())\n",
    "    potential_buses = f.readline().strip().split(',')\n",
    "bus_numbers = []\n",
    "time_diff = []\n",
    "for i, bus in enumerate(potential_buses):\n",
    "    if bus != 'x':\n",
    "        bus_numbers.append(int(bus))\n",
    "        time_diff.append(i)"
   ]
  },
  {
   "cell_type": "code",
   "execution_count": 8,
   "metadata": {},
   "outputs": [],
   "source": [
    "departure_times = arrival_time*2"
   ]
  },
  {
   "cell_type": "code",
   "execution_count": 9,
   "metadata": {},
   "outputs": [],
   "source": [
    "buses = {}\n",
    "earliest_times = []\n",
    "for bus in bus_numbers:\n",
    "    buses[f'bus{bus}'] = np.array([time - arrival_time for time in range(0, departure_times, bus)])\n",
    "    earliest_times.append(min(buses[f'bus{bus}'][buses[f'bus{bus}'] > 0]))"
   ]
  },
  {
   "cell_type": "code",
   "execution_count": 10,
   "metadata": {},
   "outputs": [
    {
     "data": {
      "text/plain": [
       "3997"
      ]
     },
     "execution_count": 10,
     "metadata": {},
     "output_type": "execute_result"
    }
   ],
   "source": [
    "bus_numbers[earliest_times.index(min(earliest_times))]*min(earliest_times)"
   ]
  },
  {
   "cell_type": "markdown",
   "metadata": {},
   "source": [
    "Part 2"
   ]
  },
  {
   "cell_type": "code",
   "execution_count": 34,
   "metadata": {},
   "outputs": [
    {
     "name": "stdout",
     "output_type": "stream",
     "text": [
      "0 19\n",
      "19 1\n",
      "9 41\n",
      "114 19\n",
      "13 37\n",
      "22705 779\n",
      "19 787\n",
      "12964232 28823\n",
      "32 13\n",
      "285168644 22683701\n",
      "42 23\n",
      "5593154678 294888113\n",
      "48 29\n",
      "46287714272 6782426599\n",
      "50 571\n",
      "50792403527990 196690371371\n",
      "67 17\n",
      "500033211739354 112310202052841\n"
     ]
    }
   ],
   "source": [
    "# https://github.com/cs-cordero/advent_of_code/blob/master/rs/2020/day13/src/main.rs\n",
    "result = 1\n",
    "mode = 1\n",
    "for offset, busid in zip(time_diff, bus_numbers):\n",
    "    print(offset, busid)\n",
    "    while (result + offset) % busid != 0:\n",
    "        result += mode\n",
    "    print(result, mode)\n",
    "    mode *= busid\n",
    "        "
   ]
  },
  {
   "cell_type": "code",
   "execution_count": 33,
   "metadata": {},
   "outputs": [
    {
     "name": "stdout",
     "output_type": "stream",
     "text": [
      "500033211739354\n"
     ]
    }
   ],
   "source": [
    "print(result)"
   ]
  }
 ],
 "metadata": {
  "kernelspec": {
   "display_name": "Python 3",
   "language": "python",
   "name": "python3"
  },
  "language_info": {
   "codemirror_mode": {
    "name": "ipython",
    "version": 3
   },
   "file_extension": ".py",
   "mimetype": "text/x-python",
   "name": "python",
   "nbconvert_exporter": "python",
   "pygments_lexer": "ipython3",
   "version": "3.8.6"
  }
 },
 "nbformat": 4,
 "nbformat_minor": 4
}
