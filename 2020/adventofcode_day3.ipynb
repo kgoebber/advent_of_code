{
 "cells": [
  {
   "cell_type": "markdown",
   "metadata": {},
   "source": [
    "Part 1"
   ]
  },
  {
   "cell_type": "code",
   "execution_count": 56,
   "metadata": {},
   "outputs": [],
   "source": [
    "import numpy as np"
   ]
  },
  {
   "cell_type": "code",
   "execution_count": 53,
   "metadata": {},
   "outputs": [
    {
     "name": "stdout",
     "output_type": "stream",
     "text": [
      "181\n"
     ]
    }
   ],
   "source": [
    "with open('day3_input.txt') as f:\n",
    "    data = f.readlines()\n",
    "\n",
    "rows = len(data)\n",
    "cols = len(data[0])-1\n",
    "\n",
    "land_cover = np.zeros((rows, cols))\n",
    "\n",
    "for i, row in enumerate(data):\n",
    "    for j, point in enumerate(row.strip('\\n')):\n",
    "        if point == '#':\n",
    "            #print('Tree!')\n",
    "            land_cover[i, j] = 1\n",
    "\n",
    "land_cover\n",
    "\n",
    "trees_on_path = 0\n",
    "x = 0\n",
    "y = 0\n",
    "for down in range(rows-1):\n",
    "    x += 3\n",
    "    y += 1\n",
    "    if x >= cols:\n",
    "        x-=cols\n",
    "    #print(x, y, land_cover[y,x])\n",
    "    if land_cover[y,x] == 1:\n",
    "        trees_on_path += 1\n",
    "print(trees_on_path)"
   ]
  },
  {
   "cell_type": "markdown",
   "metadata": {},
   "source": [
    "Part 2"
   ]
  },
  {
   "cell_type": "code",
   "execution_count": 60,
   "metadata": {},
   "outputs": [
    {
     "name": "stdout",
     "output_type": "stream",
     "text": [
      "1260601650\n"
     ]
    }
   ],
   "source": [
    "with open('day3_input.txt') as f:\n",
    "    data = f.readlines()\n",
    "\n",
    "rows = len(data)\n",
    "cols = len(data[0])-1\n",
    "\n",
    "land_cover = np.zeros((rows, cols))\n",
    "\n",
    "for i, row in enumerate(data):\n",
    "    for j, point in enumerate(row.strip('\\n')):\n",
    "        if point == '#':\n",
    "            #print('Tree!')\n",
    "            land_cover[i, j] = 1\n",
    "\n",
    "total_trees = []\n",
    "for x_slope, y_slope in [(1, 1), (3, 1), (5, 1), (7, 1), (1, 2)]:\n",
    "    trees_on_path = 0\n",
    "    x = 0\n",
    "    y = 0\n",
    "    for down in range(0, rows-1, y_slope):\n",
    "        x += x_slope\n",
    "        y += y_slope\n",
    "        if x >= cols:\n",
    "            x-=cols\n",
    "        #print(x, y, land_cover[y,x])\n",
    "        if land_cover[y,x] == 1:\n",
    "            trees_on_path += 1\n",
    "    total_trees.append(trees_on_path)\n",
    "print(np.array(total_trees).prod())"
   ]
  },
  {
   "cell_type": "code",
   "execution_count": null,
   "metadata": {},
   "outputs": [],
   "source": []
  }
 ],
 "metadata": {
  "kernelspec": {
   "display_name": "Python 3",
   "language": "python",
   "name": "python3"
  },
  "language_info": {
   "codemirror_mode": {
    "name": "ipython",
    "version": 3
   },
   "file_extension": ".py",
   "mimetype": "text/x-python",
   "name": "python",
   "nbconvert_exporter": "python",
   "pygments_lexer": "ipython3",
   "version": "3.8.6"
  }
 },
 "nbformat": 4,
 "nbformat_minor": 4
}
