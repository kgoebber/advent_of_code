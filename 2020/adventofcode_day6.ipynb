{
 "cells": [
  {
   "cell_type": "code",
   "execution_count": 1,
   "metadata": {},
   "outputs": [],
   "source": [
    "with open('day6_input.txt') as f:\n",
    "    data = f.readlines()"
   ]
  },
  {
   "cell_type": "markdown",
   "metadata": {},
   "source": [
    "Part 1"
   ]
  },
  {
   "cell_type": "code",
   "execution_count": 2,
   "metadata": {},
   "outputs": [
    {
     "name": "stdout",
     "output_type": "stream",
     "text": [
      "6416\n"
     ]
    }
   ],
   "source": [
    "all_passengers = []\n",
    "group_data = []\n",
    "\n",
    "for item in data:\n",
    "    if item.strip() != '':\n",
    "        for answer in list(item.strip()):\n",
    "            group_data.append(answer)\n",
    "    else:\n",
    "        all_passengers.append(list(set(group_data)))\n",
    "        group_data = []\n",
    "all_passengers.append(list(set(group_data)))\n",
    "\n",
    "sum = 0\n",
    "for group in all_passengers:\n",
    "    sum += len(group)\n",
    "\n",
    "print(sum)"
   ]
  },
  {
   "cell_type": "markdown",
   "metadata": {},
   "source": [
    "Part 2"
   ]
  },
  {
   "cell_type": "code",
   "execution_count": 3,
   "metadata": {},
   "outputs": [],
   "source": [
    "all_passengers = []\n",
    "group_data = []\n",
    "\n",
    "for item in data:\n",
    "    if item.strip() != '':\n",
    "        group_data.append(item.strip())\n",
    "    else:\n",
    "        all_passengers.append(group_data)\n",
    "        group_data = []\n",
    "all_passengers.append(group_data)"
   ]
  },
  {
   "cell_type": "code",
   "execution_count": 4,
   "metadata": {},
   "outputs": [
    {
     "name": "stdout",
     "output_type": "stream",
     "text": [
      "3050\n"
     ]
    }
   ],
   "source": [
    "# https://stackoverflow.com/questions/57210753/find-common-values-in-multiple-lists\n",
    "# Find common answers among groups of varying sizes, sum all common values across groups\n",
    "sum = 0\n",
    "for group in all_passengers:\n",
    "    sum += len(list(set.intersection(*map(set, group))))\n",
    "print(sum)"
   ]
  },
  {
   "cell_type": "code",
   "execution_count": null,
   "metadata": {},
   "outputs": [],
   "source": []
  }
 ],
 "metadata": {
  "kernelspec": {
   "display_name": "Python 3",
   "language": "python",
   "name": "python3"
  },
  "language_info": {
   "codemirror_mode": {
    "name": "ipython",
    "version": 3
   },
   "file_extension": ".py",
   "mimetype": "text/x-python",
   "name": "python",
   "nbconvert_exporter": "python",
   "pygments_lexer": "ipython3",
   "version": "3.8.6"
  }
 },
 "nbformat": 4,
 "nbformat_minor": 4
}
