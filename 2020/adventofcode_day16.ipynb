{
 "cells": [
  {
   "cell_type": "code",
   "execution_count": 11,
   "metadata": {},
   "outputs": [],
   "source": [
    "import re\n",
    "\n",
    "import numpy as np"
   ]
  },
  {
   "cell_type": "markdown",
   "metadata": {},
   "source": [
    "Part 1"
   ]
  },
  {
   "cell_type": "code",
   "execution_count": 12,
   "metadata": {},
   "outputs": [],
   "source": [
    "with open('day16_input.txt') as f:\n",
    "    data = f.read().splitlines()"
   ]
  },
  {
   "cell_type": "code",
   "execution_count": 13,
   "metadata": {},
   "outputs": [],
   "source": [
    "ticket_rules = {}\n",
    "for row in range(20):\n",
    "    rule, low, midlow, midhigh, high = re.split(': | or |-', data[row], maxsplit=5)\n",
    "    ticket_rules[rule] = list(range(int(low), int(midlow)+1))+list(range(int(midhigh), int(high)+1))\n",
    "\n",
    "my_ticket = list(map(int,data[22].split(\",\")))\n",
    "\n",
    "nearby_tickets = []\n",
    "for row  in data[25:]:\n",
    "    nearby_tickets.append(list(map(int,row.split(\",\"))))"
   ]
  },
  {
   "cell_type": "code",
   "execution_count": 14,
   "metadata": {},
   "outputs": [],
   "source": [
    "all_rule_values = [val for rule in ticket_rules.keys() for val in ticket_rules[rule]]"
   ]
  },
  {
   "cell_type": "code",
   "execution_count": 15,
   "metadata": {},
   "outputs": [
    {
     "name": "stdout",
     "output_type": "stream",
     "text": [
      "24110\n"
     ]
    }
   ],
   "source": [
    "valid_tickets = []\n",
    "check_vals = 0\n",
    "error_rate = 0\n",
    "for ticket in nearby_tickets:\n",
    "    for val in ticket:\n",
    "        if val in set(all_rule_values):\n",
    "            check_vals += 1\n",
    "        else:\n",
    "            error_rate += val\n",
    "    if check_vals == len(ticket_rules.keys()):\n",
    "        valid_tickets.append(ticket)\n",
    "    check_vals = 0\n",
    "print(error_rate)"
   ]
  },
  {
   "cell_type": "markdown",
   "metadata": {},
   "source": [
    "Part 2"
   ]
  },
  {
   "cell_type": "code",
   "execution_count": 16,
   "metadata": {},
   "outputs": [],
   "source": [
    "\n",
    "valid_tickets = np.array(valid_tickets)"
   ]
  },
  {
   "cell_type": "code",
   "execution_count": 17,
   "metadata": {},
   "outputs": [],
   "source": [
    "possibilities = []\n",
    "for col in range(valid_tickets[0, :].size):\n",
    "    column_matches = []\n",
    "    for rule in ticket_rules.keys():    \n",
    "        matches = [ 1 if valid_tickets[i, col] in ticket_rules[rule] else 0 for i in range(0, len(valid_tickets[:, col])) ]\n",
    "        if matches.count(0) == 0:\n",
    "            column_matches.append(rule)\n",
    "    possibilities.append(column_matches)"
   ]
  },
  {
   "cell_type": "code",
   "execution_count": 18,
   "metadata": {},
   "outputs": [],
   "source": [
    "col_ids = {}\n",
    "cols = list(range(20))\n",
    "while len(col_ids.keys()) < 20:\n",
    "    for col in cols:\n",
    "        if len(possibilities[col]) == 1:\n",
    "            remove_id = possibilities[col]\n",
    "            col_ids[remove_id[0]] = col\n",
    "            possibilities = [[ele for ele in sub if ele != remove_id[0]] for sub in possibilities]\n",
    "            cols.remove(col)\n",
    "            break"
   ]
  },
  {
   "cell_type": "code",
   "execution_count": 19,
   "metadata": {},
   "outputs": [
    {
     "name": "stdout",
     "output_type": "stream",
     "text": [
      "6766503490793\n"
     ]
    }
   ],
   "source": [
    "my_value = 1\n",
    "for key in col_ids.keys():\n",
    "    if key.startswith('departure'):\n",
    "        my_value *= my_ticket[col_ids[key]]\n",
    "print(my_value)"
   ]
  },
  {
   "cell_type": "code",
   "execution_count": null,
   "metadata": {},
   "outputs": [],
   "source": []
  }
 ],
 "metadata": {
  "kernelspec": {
   "display_name": "Python 3",
   "language": "python",
   "name": "python3"
  },
  "language_info": {
   "codemirror_mode": {
    "name": "ipython",
    "version": 3
   },
   "file_extension": ".py",
   "mimetype": "text/x-python",
   "name": "python",
   "nbconvert_exporter": "python",
   "pygments_lexer": "ipython3",
   "version": "3.8.6"
  }
 },
 "nbformat": 4,
 "nbformat_minor": 4
}
