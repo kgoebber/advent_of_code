{
 "cells": [
  {
   "cell_type": "code",
   "execution_count": 1,
   "metadata": {},
   "outputs": [],
   "source": [
    "import re"
   ]
  },
  {
   "cell_type": "code",
   "execution_count": 2,
   "metadata": {},
   "outputs": [],
   "source": [
    "# https://www.python.org/doc/essays/graphs/\n",
    "# slightly modified to use fromkeys() instead of has_keys()\n",
    "def find_path(graph, start, end, path=[]):\n",
    "        path = path + [start]\n",
    "        if start == end:\n",
    "            return path\n",
    "        if not graph.fromkeys(start):\n",
    "            return None\n",
    "        for node in graph[start]:\n",
    "            if node not in path:\n",
    "                newpath = find_path(graph, node, end, path)\n",
    "                if newpath: return newpath\n",
    "        return None"
   ]
  },
  {
   "cell_type": "code",
   "execution_count": 3,
   "metadata": {},
   "outputs": [],
   "source": [
    "with open('day7_input.txt') as f:\n",
    "    rules = f.readlines()"
   ]
  },
  {
   "cell_type": "code",
   "execution_count": 4,
   "metadata": {},
   "outputs": [],
   "source": [
    "all_rules = {}\n",
    "for rule in rules:\n",
    "    values = re.split(' bags contain [0-9] | bags, [0-9] | bags.| bag, [0-9] | bag.|contain no other bags.', rule.strip())[:-1]\n",
    "    all_rules[values[0]] = values[1:]"
   ]
  },
  {
   "cell_type": "code",
   "execution_count": 5,
   "metadata": {},
   "outputs": [],
   "source": [
    "paths = []\n",
    "for bag in list(all_rules.keys()):\n",
    "    path = find_path(all_rules, bag, 'shiny gold')\n",
    "    if path is not None:\n",
    "        if len(path) > 1:\n",
    "            paths.append(path)"
   ]
  },
  {
   "cell_type": "code",
   "execution_count": 6,
   "metadata": {},
   "outputs": [
    {
     "data": {
      "text/plain": [
       "121"
      ]
     },
     "execution_count": 6,
     "metadata": {},
     "output_type": "execute_result"
    }
   ],
   "source": [
    "len(paths)"
   ]
  },
  {
   "cell_type": "markdown",
   "metadata": {},
   "source": [
    "Part 2"
   ]
  },
  {
   "cell_type": "code",
   "execution_count": 7,
   "metadata": {},
   "outputs": [],
   "source": [
    "all_bag_values = {}\n",
    "for rule in rules:\n",
    "    values = re.split(' bags contain | bags, | bags.| bag, | bag.|contain no other bags.|no other.', rule.strip())[:-1]\n",
    "    new_dict = {}\n",
    "    for val in values[1:]:\n",
    "        if val != '':\n",
    "            nbags = int(val[:2])\n",
    "            new_dict[val[2:]] = nbags\n",
    "        else:\n",
    "            nbags = 0\n",
    "            new_dict = None\n",
    "    all_bag_values[values[0]] = new_dict"
   ]
  },
  {
   "cell_type": "code",
   "execution_count": 8,
   "metadata": {},
   "outputs": [],
   "source": [
    "# Had to go to reddit for this one...recursive operations not my strong suit\n",
    "# https://www.reddit.com/r/adventofcode/comments/k8a31f/2020_day_07_solutions/\n",
    "def solve(color):\n",
    "    root = all_bag_values[color]\n",
    "    if root is None:\n",
    "        return 0\n",
    "    else:\n",
    "        return sum([root[key]*solve(key) + root[key] for key in root])"
   ]
  },
  {
   "cell_type": "code",
   "execution_count": 9,
   "metadata": {},
   "outputs": [
    {
     "data": {
      "text/plain": [
       "3805"
      ]
     },
     "execution_count": 9,
     "metadata": {},
     "output_type": "execute_result"
    }
   ],
   "source": [
    "solve('shiny gold')"
   ]
  },
  {
   "cell_type": "code",
   "execution_count": null,
   "metadata": {},
   "outputs": [],
   "source": []
  }
 ],
 "metadata": {
  "kernelspec": {
   "display_name": "Python 3",
   "language": "python",
   "name": "python3"
  },
  "language_info": {
   "codemirror_mode": {
    "name": "ipython",
    "version": 3
   },
   "file_extension": ".py",
   "mimetype": "text/x-python",
   "name": "python",
   "nbconvert_exporter": "python",
   "pygments_lexer": "ipython3",
   "version": "3.8.6"
  }
 },
 "nbformat": 4,
 "nbformat_minor": 4
}
