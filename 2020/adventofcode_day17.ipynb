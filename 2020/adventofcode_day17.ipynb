{
 "cells": [
  {
   "cell_type": "code",
   "execution_count": 1,
   "metadata": {},
   "outputs": [],
   "source": [
    "import numpy as np"
   ]
  },
  {
   "cell_type": "code",
   "execution_count": 175,
   "metadata": {},
   "outputs": [],
   "source": [
    "with open('day17_input.txt') as f:\n",
    "    data = f.read().splitlines()"
   ]
  },
  {
   "cell_type": "code",
   "execution_count": 373,
   "metadata": {},
   "outputs": [],
   "source": [
    "initial_state = []\n",
    "for row in data:\n",
    "    initial_state.append(list(map(int, list(row.replace('.','0').replace('#','1')))))"
   ]
  },
  {
   "cell_type": "markdown",
   "metadata": {},
   "source": [
    "Part 1"
   ]
  },
  {
   "cell_type": "code",
   "execution_count": 343,
   "metadata": {},
   "outputs": [],
   "source": [
    "# initial_state = [[0, 1, 0],\n",
    "#                  [0, 0, 1],\n",
    "#                  [1, 1, 1]]\n",
    "\n",
    "dim_size = len(initial_state[0]) + 15\n",
    "half_size = (dim_size-len(initial_state[0])) // 2\n",
    "inc = [0 for _ in range(dim_size)]\n",
    "new_z = [[0 for _ in range(dim_size)] for _ in range(dim_size)]\n",
    "create2d = []\n",
    "for _ in range(half_size):\n",
    "    create2d.append(inc)\n",
    "for row in initial_state:\n",
    "    create2d.append([0 for _ in range(half_size)]+row+[0 for _ in range(half_size+1)])\n",
    "for _ in range(half_size+1):\n",
    "    create2d.append(inc)\n",
    "\n",
    "addz = [new_z for _ in range(half_size+4)]\n",
    "\n",
    "cubes = np.array(addz + [create2d] + addz)"
   ]
  },
  {
   "cell_type": "code",
   "execution_count": 218,
   "metadata": {},
   "outputs": [
    {
     "data": {
      "text/plain": [
       "211"
      ]
     },
     "execution_count": 218,
     "metadata": {},
     "output_type": "execute_result"
    }
   ],
   "source": [
    "for _ in range(6):\n",
    "    hold = cubes.copy()\n",
    "    for i in range(1, cubes.shape[0]-1):\n",
    "        for j in range(1, cubes.shape[1]-1):\n",
    "            for k in range(1, cubes.shape[2]-1):\n",
    "                subset = cubes[i-1:i+2, j-1:j+2, k-1:k+2].sum()\n",
    "                if (cubes[i, j, k] == 0) and (subset == 3):\n",
    "                    #print('become active')\n",
    "                    hold[i, j, k] = 1\n",
    "                elif (cubes[i, j, k] == 1) and (subset-1 in [2,3]):\n",
    "                    #print(\"remain active\")\n",
    "                    hold[i, j, k] = 1\n",
    "                else:\n",
    "                    hold[i, j, k] = 0\n",
    "    cubes = hold\n",
    "hold.sum()"
   ]
  },
  {
   "cell_type": "markdown",
   "metadata": {},
   "source": [
    "Part 2"
   ]
  },
  {
   "cell_type": "code",
   "execution_count": 374,
   "metadata": {},
   "outputs": [],
   "source": [
    "# initial_state = [[0, 1, 0],\n",
    "#                  [0, 0, 1],\n",
    "#                  [1, 1, 1]]\n",
    "\n",
    "dim_size = len(initial_state[0]) + 15\n",
    "half_size = (dim_size-len(initial_state[0])) // 2\n",
    "inc = [0 for _ in range(dim_size)]\n",
    "new_z = [[0 for _ in range(dim_size)] for _ in range(dim_size)]\n",
    "create2d = []\n",
    "for _ in range(half_size):\n",
    "    create2d.append(inc)\n",
    "for row in initial_state:\n",
    "    create2d.append([0 for _ in range(half_size)]+row+[0 for _ in range(half_size+1)])\n",
    "for _ in range(half_size+1):\n",
    "    create2d.append(inc)\n",
    "\n",
    "addz = [new_z for _ in range(half_size+4)]\n",
    "\n",
    "cubes = np.array(addz + [create2d] + addz)"
   ]
  },
  {
   "cell_type": "code",
   "execution_count": 375,
   "metadata": {},
   "outputs": [],
   "source": [
    "zeros = np.zeros((dim_size, dim_size, dim_size, half_size)).astype('int')"
   ]
  },
  {
   "cell_type": "code",
   "execution_count": 376,
   "metadata": {},
   "outputs": [],
   "source": [
    "new = np.append(zeros, cubes[:, :, :, None], axis=3)"
   ]
  },
  {
   "cell_type": "code",
   "execution_count": 377,
   "metadata": {},
   "outputs": [],
   "source": [
    "hypercube = np.append(new, zeros, axis=3)"
   ]
  },
  {
   "cell_type": "code",
   "execution_count": 378,
   "metadata": {},
   "outputs": [
    {
     "data": {
      "text/plain": [
       "1952"
      ]
     },
     "execution_count": 378,
     "metadata": {},
     "output_type": "execute_result"
    }
   ],
   "source": [
    "for _ in range(6):\n",
    "    hold = hypercube.copy()\n",
    "    for i in range(1, hypercube.shape[0]-1):\n",
    "        for j in range(1, hypercube.shape[1]-1):\n",
    "            for k in range(1, hypercube.shape[2]-1):\n",
    "                for m in range(1, hypercube.shape[3]-1):\n",
    "                    subset = hypercube[i-1:i+2, j-1:j+2, k-1:k+2, m-1:m+2].sum()\n",
    "                    if (hypercube[i, j, k, m] == 0) and (subset == 3):\n",
    "                        #print('become active')\n",
    "                        hold[i, j, k, m] = 1\n",
    "                    elif (hypercube[i, j, k, m] == 1) and (subset-1 in [2,3]):\n",
    "                        #print(\"remain active\")\n",
    "                        hold[i, j, k, m] = 1\n",
    "                    else:\n",
    "                        hold[i, j, k, m] = 0\n",
    "    hypercube = hold\n",
    "hold.sum()"
   ]
  },
  {
   "cell_type": "code",
   "execution_count": null,
   "metadata": {},
   "outputs": [],
   "source": []
  }
 ],
 "metadata": {
  "kernelspec": {
   "display_name": "Python 3",
   "language": "python",
   "name": "python3"
  },
  "language_info": {
   "codemirror_mode": {
    "name": "ipython",
    "version": 3
   },
   "file_extension": ".py",
   "mimetype": "text/x-python",
   "name": "python",
   "nbconvert_exporter": "python",
   "pygments_lexer": "ipython3",
   "version": "3.8.6"
  }
 },
 "nbformat": 4,
 "nbformat_minor": 4
}
