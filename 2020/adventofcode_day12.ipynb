{
 "cells": [
  {
   "cell_type": "markdown",
   "metadata": {},
   "source": [
    "Part 1"
   ]
  },
  {
   "cell_type": "code",
   "execution_count": 1,
   "metadata": {},
   "outputs": [],
   "source": [
    "import numpy as np"
   ]
  },
  {
   "cell_type": "code",
   "execution_count": 2,
   "metadata": {},
   "outputs": [],
   "source": [
    "def move_ship(xpos, ypos, moving, value):\n",
    "    if moving in ['W', 'S']:\n",
    "        sign = -1\n",
    "    else:\n",
    "        sign = 1\n",
    "    if moving in ['E', 'W']:\n",
    "        xpos += sign*value\n",
    "    elif moving in ['N', 'S']:\n",
    "        ypos += sign*value\n",
    "    return xpos, ypos\n",
    "\n",
    "def rotate_ship(moving, turn, degree):\n",
    "    directions = ['N', 'E', 'S', 'W'] * 2\n",
    "    idx_current_drct = directions.index(moving)\n",
    "    turn_value = degree // 90\n",
    "    if turn == 'R':\n",
    "        idx_new = idx_current_drct + turn_value\n",
    "    if turn == 'L':\n",
    "        idx_new = idx_current_drct - turn_value\n",
    "    return directions[idx_new]"
   ]
  },
  {
   "cell_type": "code",
   "execution_count": 3,
   "metadata": {},
   "outputs": [],
   "source": [
    "motion = []\n",
    "motion_value = []\n",
    "with open('day12_input.txt') as f:\n",
    "    d = f.read().splitlines()\n",
    "    for item in d:\n",
    "        motion.append(item[0])\n",
    "        motion_value.append(int(item[1:]))"
   ]
  },
  {
   "cell_type": "code",
   "execution_count": 4,
   "metadata": {},
   "outputs": [
    {
     "name": "stdout",
     "output_type": "stream",
     "text": [
      "962\n"
     ]
    }
   ],
   "source": [
    "x = 0\n",
    "y = 0\n",
    "moving = 'E'\n",
    "for action in range(len(motion)):\n",
    "    #print(motion[action], motion_value[action])\n",
    "    if motion[action] == 'F':\n",
    "        current_motion = moving\n",
    "        x, y = move_ship(x, y, current_motion, motion_value[action])\n",
    "    elif motion[action] in ['N', 'S', 'E', 'W']:\n",
    "        x, y = move_ship(x, y, motion[action], motion_value[action])\n",
    "    elif motion[action] in ['L', 'R']:\n",
    "        current_motion = rotate_ship(moving, motion[action], motion_value[action])\n",
    "    moving = current_motion\n",
    "    #print(x, y, moving)\n",
    "print(abs(x)+abs(y))"
   ]
  },
  {
   "cell_type": "markdown",
   "metadata": {},
   "source": [
    "Part 2"
   ]
  },
  {
   "cell_type": "code",
   "execution_count": 5,
   "metadata": {},
   "outputs": [],
   "source": [
    "def rotate_waypoint(wayx, wayy, turn, degree):\n",
    "    if turn == 'R':\n",
    "        degree *= -1\n",
    "    rad = np.deg2rad(degree)\n",
    "    new_wayx = wayx*np.cos(rad) - wayy*np.sin(rad)\n",
    "    new_wayy = wayx*np.sin(rad) + wayy*np.cos(rad)\n",
    "    \n",
    "    return int(np.round(new_wayx)), int(np.round(new_wayy))"
   ]
  },
  {
   "cell_type": "code",
   "execution_count": 6,
   "metadata": {},
   "outputs": [],
   "source": [
    "motion = []\n",
    "motion_value = []\n",
    "with open('day12_input.txt') as f:\n",
    "    d = f.read().splitlines()\n",
    "    for item in d:\n",
    "        motion.append(item[0])\n",
    "        motion_value.append(int(item[1:]))"
   ]
  },
  {
   "cell_type": "code",
   "execution_count": 7,
   "metadata": {},
   "outputs": [
    {
     "name": "stdout",
     "output_type": "stream",
     "text": [
      "29901 26234\n",
      "56135\n"
     ]
    }
   ],
   "source": [
    "waypoint_x = 10\n",
    "waypoint_y = 1\n",
    "x = 0\n",
    "y = 0\n",
    "\n",
    "moving = 'E'\n",
    "for action in range(len(motion)):\n",
    "    #print(x, y, waypoint_x, waypoint_y, motion[action], motion_value[action])\n",
    "    if motion[action] == 'F':\n",
    "        current_motion = moving\n",
    "        if current_motion == 'W':\n",
    "            signx = -1\n",
    "        else:\n",
    "            signx = 1\n",
    "        if current_motion == 'S':\n",
    "            signy = -1\n",
    "        else:\n",
    "            signy = 1\n",
    "        x += signx*waypoint_x*motion_value[action]\n",
    "        y += signy*waypoint_y*motion_value[action]\n",
    "    elif motion[action] in ['N', 'S', 'E', 'W']:\n",
    "        waypoint_x, waypoint_y = move_ship(waypoint_x, waypoint_y, motion[action], motion_value[action])\n",
    "    elif motion[action] in ['L', 'R']:\n",
    "        waypoint_x, waypoint_y = rotate_waypoint(waypoint_x, waypoint_y, motion[action], motion_value[action])\n",
    "    moving = current_motion\n",
    "    \n",
    "print(x, y)\n",
    "print(abs(x)+abs(y))"
   ]
  },
  {
   "cell_type": "code",
   "execution_count": null,
   "metadata": {},
   "outputs": [],
   "source": []
  }
 ],
 "metadata": {
  "kernelspec": {
   "display_name": "Python 3",
   "language": "python",
   "name": "python3"
  },
  "language_info": {
   "codemirror_mode": {
    "name": "ipython",
    "version": 3
   },
   "file_extension": ".py",
   "mimetype": "text/x-python",
   "name": "python",
   "nbconvert_exporter": "python",
   "pygments_lexer": "ipython3",
   "version": "3.8.6"
  }
 },
 "nbformat": 4,
 "nbformat_minor": 4
}
