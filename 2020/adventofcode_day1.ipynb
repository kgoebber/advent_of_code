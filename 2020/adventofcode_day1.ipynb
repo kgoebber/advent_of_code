{
 "cells": [
  {
   "cell_type": "code",
   "execution_count": 1,
   "metadata": {},
   "outputs": [],
   "source": [
    "import numpy as np"
   ]
  },
  {
   "cell_type": "markdown",
   "metadata": {},
   "source": [
    "# Advent of Code Day 1\n",
    "\n",
    "Part 1"
   ]
  },
  {
   "cell_type": "code",
   "execution_count": 2,
   "metadata": {},
   "outputs": [
    {
     "name": "stdout",
     "output_type": "stream",
     "text": [
      "Part 1: 1019371\n"
     ]
    }
   ],
   "source": [
    "data = np.loadtxt('day1_input.txt').astype('int')\n",
    "\n",
    "data_matrix = np.ones((data.size, data.size)).astype('int') * data\n",
    "\n",
    "sum_matrix = data_matrix + data_matrix.T\n",
    "\n",
    "row, col = np.where(sum_matrix == 2020)[0]\n",
    "\n",
    "answer1 = data[row]*data[col]\n",
    "print(f'Part 1: {answer1}')"
   ]
  },
  {
   "cell_type": "markdown",
   "metadata": {},
   "source": [
    "Part 2"
   ]
  },
  {
   "cell_type": "code",
   "execution_count": 3,
   "metadata": {},
   "outputs": [
    {
     "name": "stdout",
     "output_type": "stream",
     "text": [
      "Part 2: 278064990\n"
     ]
    }
   ],
   "source": [
    "for i in range(data.size):\n",
    "    for j in range(i+1, data.size):\n",
    "        for k in range(j+1, data.size):\n",
    "            if (data[i] + data[j] + data[k] == 2020):\n",
    "                answer2 = data[i]*data[j]*data[k]\n",
    "                print(f'Part 2: {answer2}')"
   ]
  },
  {
   "cell_type": "code",
   "execution_count": null,
   "metadata": {},
   "outputs": [],
   "source": []
  }
 ],
 "metadata": {
  "kernelspec": {
   "display_name": "Python 3",
   "language": "python",
   "name": "python3"
  },
  "language_info": {
   "codemirror_mode": {
    "name": "ipython",
    "version": 3
   },
   "file_extension": ".py",
   "mimetype": "text/x-python",
   "name": "python",
   "nbconvert_exporter": "python",
   "pygments_lexer": "ipython3",
   "version": "3.8.6"
  }
 },
 "nbformat": 4,
 "nbformat_minor": 4
}
