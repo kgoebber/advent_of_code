{
 "cells": [
  {
   "cell_type": "code",
   "execution_count": null,
   "metadata": {},
   "outputs": [],
   "source": [
    "card_key = 1717001\n",
    "door_key = 523731"
   ]
  },
  {
   "cell_type": "code",
   "execution_count": null,
   "metadata": {},
   "outputs": [],
   "source": [
    "subject_number = 7"
   ]
  },
  {
   "cell_type": "code",
   "execution_count": null,
   "metadata": {},
   "outputs": [],
   "source": [
    "test = subject_number % 20201227"
   ]
  },
  {
   "cell_type": "code",
   "execution_count": null,
   "metadata": {},
   "outputs": [],
   "source": [
    "print(test)"
   ]
  },
  {
   "cell_type": "code",
   "execution_count": 22,
   "metadata": {},
   "outputs": [
    {
     "name": "stdout",
     "output_type": "stream",
     "text": [
      "2337352 523731\n"
     ]
    }
   ],
   "source": [
    "card_key = 1717001\n",
    "#card_key = 17807724\n",
    "door_key = 523731\n",
    "#door_key = 5764801\n",
    "subject_number = 7\n",
    "\n",
    "value = 1\n",
    "i = 1\n",
    "while value != door_key:\n",
    "    value *= subject_number\n",
    "    value = value % 20201227\n",
    "    if value == door_key:\n",
    "        loop_size = i\n",
    "    i += 1\n",
    "print(i, value)"
   ]
  },
  {
   "cell_type": "code",
   "execution_count": 23,
   "metadata": {},
   "outputs": [
    {
     "name": "stdout",
     "output_type": "stream",
     "text": [
      "2337351\n"
     ]
    }
   ],
   "source": [
    "print(loop_size)"
   ]
  },
  {
   "cell_type": "code",
   "execution_count": 24,
   "metadata": {},
   "outputs": [
    {
     "name": "stdout",
     "output_type": "stream",
     "text": [
      "2679568\n"
     ]
    }
   ],
   "source": [
    "subject_number = card_key\n",
    "encryption = 1\n",
    "for _ in range(loop_size):\n",
    "    encryption *= subject_number\n",
    "    encryption = encryption % 20201227\n",
    "print(encryption)"
   ]
  },
  {
   "cell_type": "code",
   "execution_count": null,
   "metadata": {},
   "outputs": [],
   "source": []
  }
 ],
 "metadata": {
  "kernelspec": {
   "display_name": "Python 3",
   "language": "python",
   "name": "python3"
  },
  "language_info": {
   "codemirror_mode": {
    "name": "ipython",
    "version": 3
   },
   "file_extension": ".py",
   "mimetype": "text/x-python",
   "name": "python",
   "nbconvert_exporter": "python",
   "pygments_lexer": "ipython3",
   "version": "3.8.6"
  }
 },
 "nbformat": 4,
 "nbformat_minor": 4
}
