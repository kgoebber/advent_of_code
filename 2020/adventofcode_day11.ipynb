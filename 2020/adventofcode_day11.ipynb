{
 "cells": [
  {
   "cell_type": "code",
   "execution_count": 92,
   "metadata": {},
   "outputs": [],
   "source": [
    "import collections"
   ]
  },
  {
   "cell_type": "code",
   "execution_count": 1,
   "metadata": {},
   "outputs": [],
   "source": [
    "# https://stackoverflow.com/questions/1620940/determining-neighbours-of-cell-two-dimensional-list\n",
    "neighbors = lambda y, x : [(y2, x2) for y2 in range(y-1, y+2)\n",
    "                           for x2 in range(x-1, x+2)\n",
    "                            if (-1 < x <= cols-1 and\n",
    "                                -1 < y <= rows-1 and\n",
    "                                (x != x2 or y != y2) and\n",
    "                                (0 <= x2 <= cols-1) and\n",
    "                                (0 <= y2 <= rows-1))]"
   ]
  },
  {
   "cell_type": "code",
   "execution_count": 2,
   "metadata": {},
   "outputs": [],
   "source": [
    "def update_seats(data, occupy, unoccupy):\n",
    "    for y, x in occupy:\n",
    "        data[y][x] = '#'\n",
    "    for y, x in unoccupy:\n",
    "        data[y][x] = 'L'\n",
    "    return data"
   ]
  },
  {
   "cell_type": "code",
   "execution_count": 86,
   "metadata": {},
   "outputs": [],
   "source": [
    "data = []\n",
    "with open('day11_input.txt') as f:\n",
    "    d = f.read().splitlines()\n",
    "\n",
    "rows = len(d)\n",
    "cols = len(d[0])\n",
    "\n",
    "change_to_occupied = []\n",
    "change_to_unoccupied = []\n",
    "for j in range(rows):\n",
    "    data.append(list(d[j]))\n",
    "    for i in range(cols):\n",
    "    # Step 1, all seats become occupied\n",
    "        if data[j][i] == 'L':\n",
    "            change_to_occupied.append((j, i))\n",
    "data = update_seats(data, change_to_occupied, change_to_unoccupied)\n",
    "changes = len(change_to_occupied) + len(change_to_unoccupied)"
   ]
  },
  {
   "cell_type": "code",
   "execution_count": 87,
   "metadata": {},
   "outputs": [],
   "source": [
    "while changes != 0:\n",
    "    change_to_occupied = []\n",
    "    change_to_unoccupied = []\n",
    "    for j in range(rows):\n",
    "        for i in range(cols):\n",
    "            occupied_seat = 0\n",
    "            unoccupied_seat = 0\n",
    "            if data[j][i] != '.':\n",
    "                for row, col in neighbors(j, i):\n",
    "                    if data[row][col] == '#':\n",
    "                        occupied_seat += 1\n",
    "                if (data[j][i] == '#') and (occupied_seat >= 4):\n",
    "                    change_to_unoccupied.append((j, i))\n",
    "                if (data[j][i] == 'L') and (occupied_seat == 0):\n",
    "                    change_to_occupied.append((j, i))\n",
    "    changes = len(change_to_occupied) + len(change_to_unoccupied)\n",
    "    data = update_seats(data, change_to_occupied, change_to_unoccupied)"
   ]
  },
  {
   "cell_type": "code",
   "execution_count": 89,
   "metadata": {},
   "outputs": [],
   "source": [
    "\n",
    "counts = collections.Counter([x for sublist in data for x in sublist])"
   ]
  },
  {
   "cell_type": "code",
   "execution_count": 91,
   "metadata": {},
   "outputs": [
    {
     "name": "stdout",
     "output_type": "stream",
     "text": [
      "2265\n"
     ]
    }
   ],
   "source": [
    "print(counts['#'])"
   ]
  },
  {
   "cell_type": "markdown",
   "metadata": {},
   "source": [
    "Part 2"
   ]
  },
  {
   "cell_type": "code",
   "execution_count": 93,
   "metadata": {},
   "outputs": [],
   "source": [
    "data = []\n",
    "with open('day11_input.txt') as f:\n",
    "    d = f.read().splitlines()\n",
    "\n",
    "rows = len(d)\n",
    "cols = len(d[0])\n",
    "\n",
    "change_to_occupied = []\n",
    "change_to_unoccupied = []\n",
    "for j in range(rows):\n",
    "    data.append(list(d[j]))\n",
    "    for i in range(cols):\n",
    "    # Step 1, all seats become occupied\n",
    "        if data[j][i] == 'L':\n",
    "            change_to_occupied.append((j, i))\n",
    "data = update_seats(data, change_to_occupied, change_to_unoccupied)\n",
    "changes = len(change_to_occupied) + len(change_to_unoccupied)"
   ]
  },
  {
   "cell_type": "code",
   "execution_count": 94,
   "metadata": {},
   "outputs": [],
   "source": [
    "while changes != 0:\n",
    "    change_to_occupied = []\n",
    "    change_to_unoccupied = []\n",
    "    for j in range(rows):\n",
    "        for i in range(cols):\n",
    "            occupied_seat = 0\n",
    "            unoccupied_seat = 0\n",
    "            if data[j][i] != '.':\n",
    "                for row, col in neighbors(j, i):\n",
    "                    if data[row][col] == '#':\n",
    "                        occupied_seat += 1\n",
    "                    elif data[row][col] == '.':\n",
    "                        slope_y, slope_x = row-j, col-i\n",
    "                        y, x = row+slope_y, col+slope_x\n",
    "                        while (0 <= y < rows) and (0 <= x < cols):\n",
    "                            if data[y][x] == '#':\n",
    "                                occupied_seat += 1\n",
    "                                break\n",
    "                            elif data[y][x] == 'L':\n",
    "                                break\n",
    "                            y, x = y+slope_y, x+slope_x\n",
    "                if (data[j][i] == '#') and (occupied_seat >= 5):\n",
    "                    change_to_unoccupied.append((j, i))\n",
    "                if (data[j][i] == 'L') and (occupied_seat == 0):\n",
    "                    change_to_occupied.append((j, i))\n",
    "    changes = len(change_to_occupied) + len(change_to_unoccupied)\n",
    "    data = update_seats(data, change_to_occupied, change_to_unoccupied)"
   ]
  },
  {
   "cell_type": "code",
   "execution_count": 95,
   "metadata": {},
   "outputs": [],
   "source": [
    "counts = collections.Counter([x for sublist in data for x in sublist])"
   ]
  },
  {
   "cell_type": "code",
   "execution_count": 96,
   "metadata": {},
   "outputs": [
    {
     "name": "stdout",
     "output_type": "stream",
     "text": [
      "2045\n"
     ]
    }
   ],
   "source": [
    "print(counts['#'])"
   ]
  },
  {
   "cell_type": "code",
   "execution_count": null,
   "metadata": {},
   "outputs": [],
   "source": []
  }
 ],
 "metadata": {
  "kernelspec": {
   "display_name": "Python 3",
   "language": "python",
   "name": "python3"
  },
  "language_info": {
   "codemirror_mode": {
    "name": "ipython",
    "version": 3
   },
   "file_extension": ".py",
   "mimetype": "text/x-python",
   "name": "python",
   "nbconvert_exporter": "python",
   "pygments_lexer": "ipython3",
   "version": "3.8.6"
  }
 },
 "nbformat": 4,
 "nbformat_minor": 4
}
