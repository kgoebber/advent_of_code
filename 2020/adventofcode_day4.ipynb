{
 "cells": [
  {
   "cell_type": "markdown",
   "metadata": {},
   "source": [
    "Part 1"
   ]
  },
  {
   "cell_type": "code",
   "execution_count": 101,
   "metadata": {},
   "outputs": [],
   "source": [
    "import re"
   ]
  },
  {
   "cell_type": "code",
   "execution_count": 68,
   "metadata": {},
   "outputs": [],
   "source": [
    "with open('day4_input.txt') as f:\n",
    "    data = f.readlines()"
   ]
  },
  {
   "cell_type": "code",
   "execution_count": 69,
   "metadata": {},
   "outputs": [],
   "source": [
    "def make_dict(info):\n",
    "    output = {}\n",
    "    for item in info:\n",
    "        key, value = item.split(':')\n",
    "        output[key] = value\n",
    "    return output"
   ]
  },
  {
   "cell_type": "code",
   "execution_count": 85,
   "metadata": {},
   "outputs": [],
   "source": [
    "def check_max_min(value, min_val, max_val):\n",
    "    if ((int(value) >= min_val) and (int(value) <= max_val)):\n",
    "        return True\n",
    "    else:\n",
    "        return False"
   ]
  },
  {
   "cell_type": "code",
   "execution_count": 86,
   "metadata": {},
   "outputs": [],
   "source": [
    "def check_year(value, min_val, max_val):\n",
    "    if (len(value) == 4) and check_max_min(value, min_val, max_val):\n",
    "        return True\n",
    "    else:\n",
    "        return False"
   ]
  },
  {
   "cell_type": "code",
   "execution_count": 92,
   "metadata": {},
   "outputs": [],
   "source": [
    "def check_hgt(value):\n",
    "    if value[-2:] in ['cm', 'in']:\n",
    "        if (value[-2:] == 'cm') and check_max_min(value[:-2], 150, 193):\n",
    "            return True\n",
    "        elif (value[-2:] == 'in') and check_max_min(value[:-2], 59, 76):\n",
    "            return True\n",
    "        else:\n",
    "            return False\n",
    "    else:\n",
    "        return False"
   ]
  },
  {
   "cell_type": "code",
   "execution_count": 94,
   "metadata": {},
   "outputs": [],
   "source": [
    "def check_pid(value):\n",
    "    if len(value) == 9:\n",
    "        return True\n",
    "    else:\n",
    "        return False"
   ]
  },
  {
   "cell_type": "code",
   "execution_count": 98,
   "metadata": {},
   "outputs": [],
   "source": [
    "def check_ecl(value):\n",
    "    if value in ['amb', 'blu', 'brn', 'gry', 'grn', 'hzl', 'oth']:\n",
    "        return True\n",
    "    else:\n",
    "        return False"
   ]
  },
  {
   "cell_type": "code",
   "execution_count": 125,
   "metadata": {},
   "outputs": [],
   "source": [
    "def check_hcl(value):\n",
    "    if (value[0] == '#') and (len(value[1:]) == 6):\n",
    "        pattern = re.compile(\"[a-f0-9]+\")\n",
    "        if pattern.fullmatch(value[1:]) is not None:\n",
    "            return True\n",
    "        else:\n",
    "            return False\n",
    "    else:\n",
    "        return False"
   ]
  },
  {
   "cell_type": "code",
   "execution_count": 70,
   "metadata": {},
   "outputs": [],
   "source": [
    "passport_data = {}\n",
    "individual_data = []\n",
    "ind_count = 1\n",
    "for i, line in enumerate(data):\n",
    "    if line.strip() != '':\n",
    "        for item in line.strip().split():\n",
    "            individual_data.append(item)\n",
    "    elif line.strip() == '':\n",
    "        passport_data[f'person{ind_count}'] = make_dict(individual_data)\n",
    "        individual_data = []\n",
    "        ind_count+=1\n",
    "    if i == len(data)-1:\n",
    "        passport_data[f'person{ind_count}'] = make_dict(individual_data)"
   ]
  },
  {
   "cell_type": "code",
   "execution_count": 127,
   "metadata": {},
   "outputs": [
    {
     "name": "stdout",
     "output_type": "stream",
     "text": [
      "200\n"
     ]
    }
   ],
   "source": [
    "valid_passports = 0\n",
    "needed_keys = ['byr', 'pid', 'eyr', 'hcl', 'ecl', 'iyr', 'hgt']\n",
    "for individual in passport_data.keys():\n",
    "    compare = set(passport_data[individual].keys()) & set(needed_keys)\n",
    "    if sorted(compare) == sorted(needed_keys):\n",
    "        valid_passports+=1\n",
    "print(valid_passports)"
   ]
  },
  {
   "cell_type": "markdown",
   "metadata": {},
   "source": [
    "Part 2"
   ]
  },
  {
   "cell_type": "code",
   "execution_count": 126,
   "metadata": {},
   "outputs": [
    {
     "name": "stdout",
     "output_type": "stream",
     "text": [
      "116\n"
     ]
    }
   ],
   "source": [
    "valid_passports = 0\n",
    "needed_keys = ['byr', 'pid', 'eyr', 'hcl', 'ecl', 'iyr', 'hgt']\n",
    "for individual in passport_data.keys():\n",
    "    compare = set(passport_data[individual].keys()) & set(needed_keys)\n",
    "    if sorted(compare) == sorted(needed_keys):\n",
    "        #print(passport_data[individual])\n",
    "        valid_byr = check_year(passport_data[individual]['byr'], 1920, 2002)\n",
    "        valid_iyr = check_year(passport_data[individual]['iyr'], 2010, 2020)\n",
    "        valid_eyr = check_year(passport_data[individual]['eyr'], 2020, 2030)\n",
    "        valid_hgt = check_hgt(passport_data[individual]['hgt'])\n",
    "        valid_pid = check_pid(passport_data[individual]['pid'])\n",
    "        valid_ecl = check_ecl(passport_data[individual]['ecl'])\n",
    "        valid_hcl = check_hcl(passport_data[individual]['hcl'])\n",
    "        #print(passport_data[individual]['hcl'], valid_hcl)\n",
    "        if valid_byr & valid_ecl & valid_eyr & valid_hcl & valid_hgt & valid_iyr & valid_pid:\n",
    "            valid_passports+=1\n",
    "print(valid_passports)"
   ]
  },
  {
   "cell_type": "code",
   "execution_count": null,
   "metadata": {},
   "outputs": [],
   "source": []
  }
 ],
 "metadata": {
  "kernelspec": {
   "display_name": "Python 3",
   "language": "python",
   "name": "python3"
  },
  "language_info": {
   "codemirror_mode": {
    "name": "ipython",
    "version": 3
   },
   "file_extension": ".py",
   "mimetype": "text/x-python",
   "name": "python",
   "nbconvert_exporter": "python",
   "pygments_lexer": "ipython3",
   "version": "3.8.6"
  }
 },
 "nbformat": 4,
 "nbformat_minor": 4
}
