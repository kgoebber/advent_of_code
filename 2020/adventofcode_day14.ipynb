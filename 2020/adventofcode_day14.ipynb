{
 "cells": [
  {
   "cell_type": "code",
   "execution_count": 7,
   "metadata": {},
   "outputs": [],
   "source": [
    "from itertools import product\n",
    "import re"
   ]
  },
  {
   "cell_type": "markdown",
   "metadata": {},
   "source": [
    "Part 1"
   ]
  },
  {
   "cell_type": "code",
   "execution_count": 12,
   "metadata": {},
   "outputs": [],
   "source": [
    "mem = {}\n",
    "\n",
    "with open('day14_input.txt') as f:\n",
    "    lines = f.read().splitlines()\n",
    "\n",
    "for line in lines:\n",
    "    if line.split(' = ')[0] == 'mask':\n",
    "        mask = list(line.split(' = ')[1])\n",
    "    else:\n",
    "        _, mem_loc, _, value = re.split('mem\\[|\\] |=', line)\n",
    "        \n",
    "        bin_val = list(f'{int(value):036b}')\n",
    "        \n",
    "        separator = ''\n",
    "        for i, mask_val in enumerate(mask):\n",
    "            if mask_val != 'X':\n",
    "                bin_val[i] = mask_val\n",
    "        bin_val = separator.join(bin_val)\n",
    "\n",
    "        new_value = 0\n",
    "        for i, val in enumerate(bin_val):\n",
    "            new_value += 2**(35-i) * int(val)\n",
    "        mem[mem_loc] = new_value"
   ]
  },
  {
   "cell_type": "code",
   "execution_count": 13,
   "metadata": {},
   "outputs": [
    {
     "data": {
      "text/plain": [
       "17934269678453"
      ]
     },
     "execution_count": 13,
     "metadata": {},
     "output_type": "execute_result"
    }
   ],
   "source": [
    "sum(mem.values())"
   ]
  },
  {
   "cell_type": "code",
   "execution_count": 5,
   "metadata": {},
   "outputs": [],
   "source": [
    "mem = {}\n",
    "separator = ''\n",
    "\n",
    "with open('day14_input.txt') as f:\n",
    "    lines = f.read().splitlines()\n",
    "\n",
    "for line in lines:\n",
    "    if line.split(' = ')[0] == 'mask':\n",
    "        mask = list(line.split(' = ')[1])\n",
    "    else:\n",
    "        _, mem_loc, _, value = re.split('mem\\[|\\] |=', line)\n",
    "\n",
    "        bin_val = list(f'{int(mem_loc):036b}')\n",
    "        \n",
    "        for i, mask_val in enumerate(mask):\n",
    "            if mask_val != '0':\n",
    "                bin_val[i] = mask_val\n",
    "        float_locs = [i for i, ltr in enumerate(bin_val) if ltr == 'X']\n",
    "        bin_changes = list(product([0, 1], repeat=len(float_locs)))\n",
    "        for i, address_change in enumerate(bin_changes):\n",
    "            for float_loc, bin_update_val in zip(float_locs, address_change):\n",
    "                bin_val[float_loc] = str(bin_update_val)\n",
    "            new_value = 0\n",
    "            for i, val in enumerate(bin_val):\n",
    "                new_value += 2**(35-i) * int(val)\n",
    "            mem[f'{new_value}'] = int(value)\n",
    "    "
   ]
  },
  {
   "cell_type": "code",
   "execution_count": 6,
   "metadata": {},
   "outputs": [
    {
     "data": {
      "text/plain": [
       "3440662844064"
      ]
     },
     "execution_count": 6,
     "metadata": {},
     "output_type": "execute_result"
    }
   ],
   "source": [
    "sum(mem.values())"
   ]
  },
  {
   "cell_type": "code",
   "execution_count": null,
   "metadata": {},
   "outputs": [],
   "source": []
  }
 ],
 "metadata": {
  "kernelspec": {
   "display_name": "Python 3",
   "language": "python",
   "name": "python3"
  },
  "language_info": {
   "codemirror_mode": {
    "name": "ipython",
    "version": 3
   },
   "file_extension": ".py",
   "mimetype": "text/x-python",
   "name": "python",
   "nbconvert_exporter": "python",
   "pygments_lexer": "ipython3",
   "version": "3.8.6"
  }
 },
 "nbformat": 4,
 "nbformat_minor": 4
}
